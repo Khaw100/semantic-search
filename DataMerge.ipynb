{
 "cells": [
  {
   "cell_type": "code",
   "execution_count": 2,
   "metadata": {},
   "outputs": [],
   "source": [
    "# Import All Packages\n",
    "import pandas as pd"
   ]
  },
  {
   "cell_type": "code",
   "execution_count": 44,
   "metadata": {},
   "outputs": [],
   "source": [
    "df1 = pd.read_csv('Data/translated_1.csv')\n",
    "df2 = pd.read_csv('Data/translated_2.csv')\n",
    "df3 = pd.read_csv('Data/translated_3.csv')\n",
    "df4 = pd.read_csv('Data/translated_4.csv')\n",
    "df5 = pd.read_csv('Data/translated_5.csv')\n",
    "df6 = pd.read_csv('Data/translated_6.csv')\n",
    "df7 = pd.read_csv('Data/translated_7.csv')\n",
    "df8 = pd.read_csv('Data/translated_8.csv')\n",
    "df9 = pd.read_csv('Data/translated_9.csv')\n",
    "df10 = pd.read_csv('Data/translated_10.csv')\n",
    "df11 = pd.read_csv('Data/translated_11.csv')\n",
    "df12 = pd.read_csv('Data/translated_12.csv')"
   ]
  },
  {
   "cell_type": "markdown",
   "metadata": {},
   "source": [
    "## Checking NaN Values for each columns"
   ]
  },
  {
   "cell_type": "code",
   "execution_count": 48,
   "metadata": {},
   "outputs": [],
   "source": [
    "columns = ['translated_title', 'title', 'translated_instructors', 'instructors', 'translated_headline', 'headline', \n",
    "           'translated_objectives_summary','objectives_summary']\n",
    "\n",
    "def count_nan_values(df):\n",
    "    for i in columns:\n",
    "        print(f\"{i} : {len(df[df[i].isna()][i])}\")\n",
    "    print('-----')"
   ]
  },
  {
   "cell_type": "code",
   "execution_count": 52,
   "metadata": {},
   "outputs": [
    {
     "name": "stdout",
     "output_type": "stream",
     "text": [
      "translated_title : 0\n",
      "title : 0\n",
      "translated_instructors : 0\n",
      "instructors : 0\n",
      "translated_headline : 2\n",
      "headline : 2\n",
      "translated_objectives_summary : 0\n",
      "objectives_summary : 0\n",
      "-----\n",
      "translated_title : 0\n",
      "title : 0\n",
      "translated_instructors : 0\n",
      "instructors : 0\n",
      "translated_headline : 1\n",
      "headline : 1\n",
      "translated_objectives_summary : 0\n",
      "objectives_summary : 0\n",
      "-----\n",
      "translated_title : 0\n",
      "title : 0\n",
      "translated_instructors : 0\n",
      "instructors : 0\n",
      "translated_headline : 0\n",
      "headline : 0\n",
      "translated_objectives_summary : 0\n",
      "objectives_summary : 0\n",
      "-----\n",
      "translated_title : 0\n",
      "title : 0\n",
      "translated_instructors : 0\n",
      "instructors : 0\n",
      "translated_headline : 1\n",
      "headline : 1\n",
      "translated_objectives_summary : 0\n",
      "objectives_summary : 0\n",
      "-----\n",
      "translated_title : 0\n",
      "title : 0\n",
      "translated_instructors : 0\n",
      "instructors : 0\n",
      "translated_headline : 0\n",
      "headline : 0\n",
      "translated_objectives_summary : 0\n",
      "objectives_summary : 0\n",
      "-----\n",
      "translated_title : 0\n",
      "title : 0\n",
      "translated_instructors : 0\n",
      "instructors : 0\n",
      "translated_headline : 0\n",
      "headline : 0\n",
      "translated_objectives_summary : 0\n",
      "objectives_summary : 0\n",
      "-----\n",
      "translated_title : 0\n",
      "title : 0\n",
      "translated_instructors : 0\n",
      "instructors : 0\n",
      "translated_headline : 1\n",
      "headline : 1\n",
      "translated_objectives_summary : 0\n",
      "objectives_summary : 0\n",
      "-----\n",
      "translated_title : 0\n",
      "title : 0\n",
      "translated_instructors : 0\n",
      "instructors : 0\n",
      "translated_headline : 1\n",
      "headline : 1\n",
      "translated_objectives_summary : 0\n",
      "objectives_summary : 0\n",
      "-----\n",
      "translated_title : 0\n",
      "title : 0\n",
      "translated_instructors : 0\n",
      "instructors : 0\n",
      "translated_headline : 0\n",
      "headline : 0\n",
      "translated_objectives_summary : 0\n",
      "objectives_summary : 0\n",
      "-----\n",
      "translated_title : 0\n",
      "title : 0\n",
      "translated_instructors : 0\n",
      "instructors : 0\n",
      "translated_headline : 0\n",
      "headline : 0\n",
      "translated_objectives_summary : 0\n",
      "objectives_summary : 0\n",
      "-----\n",
      "translated_title : 0\n",
      "title : 0\n",
      "translated_instructors : 0\n",
      "instructors : 0\n",
      "translated_headline : 3\n",
      "headline : 3\n",
      "translated_objectives_summary : 0\n",
      "objectives_summary : 0\n",
      "-----\n",
      "translated_title : 0\n",
      "title : 0\n",
      "translated_instructors : 0\n",
      "instructors : 0\n",
      "translated_headline : 4\n",
      "headline : 4\n",
      "translated_objectives_summary : 0\n",
      "objectives_summary : 0\n",
      "-----\n"
     ]
    }
   ],
   "source": [
    "count_nan_values(df1)\n",
    "count_nan_values(df2)\n",
    "count_nan_values(df3)\n",
    "count_nan_values(df4)\n",
    "count_nan_values(df5)\n",
    "count_nan_values(df6)\n",
    "count_nan_values(df7)\n",
    "count_nan_values(df8)\n",
    "count_nan_values(df9)\n",
    "count_nan_values(df10)\n",
    "count_nan_values(df11)\n",
    "count_nan_values(df12)"
   ]
  },
  {
   "cell_type": "markdown",
   "metadata": {},
   "source": [
    "## Merging Data"
   ]
  },
  {
   "cell_type": "code",
   "execution_count": 53,
   "metadata": {},
   "outputs": [],
   "source": [
    "merged_df = pd.concat([df1, df2,df3,df4,df5,df6,df7,df8,df9,df10,df11,df12], ignore_index=True)"
   ]
  },
  {
   "cell_type": "code",
   "execution_count": 54,
   "metadata": {},
   "outputs": [],
   "source": [
    "merged_df = merged_df.drop(['Unnamed: 0.1', 'Unnamed: 0'], axis=1)"
   ]
  },
  {
   "cell_type": "code",
   "execution_count": 55,
   "metadata": {},
   "outputs": [],
   "source": [
    "merged_df.to_csv('Data/courses_dataset.csv')"
   ]
  }
 ],
 "metadata": {
  "kernelspec": {
   "display_name": "Python 3",
   "language": "python",
   "name": "python3"
  },
  "language_info": {
   "codemirror_mode": {
    "name": "ipython",
    "version": 3
   },
   "file_extension": ".py",
   "mimetype": "text/x-python",
   "name": "python",
   "nbconvert_exporter": "python",
   "pygments_lexer": "ipython3",
   "version": "3.10.5"
  }
 },
 "nbformat": 4,
 "nbformat_minor": 2
}
