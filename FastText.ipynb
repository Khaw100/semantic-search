{
 "cells": [
  {
   "cell_type": "code",
   "execution_count": 6,
   "id": "4c6b664f-b5e4-4ca4-8146-6b8f61c553d1",
   "metadata": {},
   "outputs": [],
   "source": [
    "import torch\n",
    "import pandas as pd\n",
    "import re\n",
    "import numpy as np\n",
    "import pickle\n",
    "\n",
    "from sentence_transformers import SentenceTransformer, util\n",
    "from sklearn.metrics.pairwise import cosine_similarity\n",
    "from nltk.corpus import stopwords\n",
    "from nltk.stem import PorterStemmer"
   ]
  },
  {
   "cell_type": "code",
   "execution_count": 11,
   "id": "76b3be61-668c-46b1-82d1-46770f0a887e",
   "metadata": {},
   "outputs": [
    {
     "name": "stdout",
     "output_type": "stream",
     "text": [
      "Collecting fastText\n",
      "  Using cached fasttext-0.9.2.tar.gz (68 kB)\n",
      "  Preparing metadata (setup.py): started\n",
      "  Preparing metadata (setup.py): finished with status 'done'\n",
      "Requirement already satisfied: pybind11>=2.2 in c:\\users\\lesty\\documents\\itb\\semanticsearch\\env\\lib\\site-packages (from fastText) (2.11.1)\n",
      "Requirement already satisfied: setuptools>=0.7.0 in c:\\users\\lesty\\documents\\itb\\semanticsearch\\env\\lib\\site-packages (from fastText) (58.1.0)\n",
      "Requirement already satisfied: numpy in c:\\users\\lesty\\documents\\itb\\semanticsearch\\env\\lib\\site-packages (from fastText) (1.26.3)\n",
      "Using legacy 'setup.py install' for fastText, since package 'wheel' is not installed.\n",
      "Installing collected packages: fastText\n",
      "  Running setup.py install for fastText: started\n",
      "  Running setup.py install for fastText: finished with status 'error'\n",
      "Note: you may need to restart the kernel to use updated packages.\n"
     ]
    },
    {
     "name": "stderr",
     "output_type": "stream",
     "text": [
      "  error: subprocess-exited-with-error\n",
      "  \n",
      "  Running setup.py install for fastText did not run successfully.\n",
      "  exit code: 1\n",
      "  \n",
      "  [20 lines of output]\n",
      "  C:\\Users\\Lesty\\Documents\\ITB\\SemanticSearch\\env\\lib\\site-packages\\setuptools\\dist.py:717: UserWarning: Usage of dash-separated 'description-file' will not be supported in future versions. Please use the underscore name 'description_file' instead\n",
      "    warnings.warn(\n",
      "  running install\n",
      "  running build\n",
      "  running build_py\n",
      "  creating build\n",
      "  creating build\\lib.win-amd64-3.10\n",
      "  creating build\\lib.win-amd64-3.10\\fasttext\n",
      "  copying python\\fasttext_module\\fasttext\\FastText.py -> build\\lib.win-amd64-3.10\\fasttext\n",
      "  copying python\\fasttext_module\\fasttext\\__init__.py -> build\\lib.win-amd64-3.10\\fasttext\n",
      "  creating build\\lib.win-amd64-3.10\\fasttext\\util\n",
      "  copying python\\fasttext_module\\fasttext\\util\\util.py -> build\\lib.win-amd64-3.10\\fasttext\\util\n",
      "  copying python\\fasttext_module\\fasttext\\util\\__init__.py -> build\\lib.win-amd64-3.10\\fasttext\\util\n",
      "  creating build\\lib.win-amd64-3.10\\fasttext\\tests\n",
      "  copying python\\fasttext_module\\fasttext\\tests\\test_configurations.py -> build\\lib.win-amd64-3.10\\fasttext\\tests\n",
      "  copying python\\fasttext_module\\fasttext\\tests\\test_script.py -> build\\lib.win-amd64-3.10\\fasttext\\tests\n",
      "  copying python\\fasttext_module\\fasttext\\tests\\__init__.py -> build\\lib.win-amd64-3.10\\fasttext\\tests\n",
      "  running build_ext\n",
      "  building 'fasttext_pybind' extension\n",
      "  error: Microsoft Visual C++ 14.0 or greater is required. Get it with \"Microsoft C++ Build Tools\": https://visualstudio.microsoft.com/visual-cpp-build-tools/\n",
      "  [end of output]\n",
      "  \n",
      "  note: This error originates from a subprocess, and is likely not a problem with pip.\n",
      "error: legacy-install-failure\n",
      "\n",
      "Encountered error while trying to install package.\n",
      "\n",
      "fastText\n",
      "\n",
      "note: This is an issue with the package mentioned above, not pip.\n",
      "hint: See above for output from the failure.\n",
      "WARNING: You are using pip version 22.0.4; however, version 24.0 is available.\n",
      "You should consider upgrading via the 'C:\\Users\\Lesty\\Documents\\ITB\\SemanticSearch\\env\\Scripts\\python.exe -m pip install --upgrade pip' command.\n"
     ]
    }
   ],
   "source": [
    "pip install fastText"
   ]
  },
  {
   "cell_type": "code",
   "execution_count": 2,
   "id": "3b051406-60d0-4dae-a94a-732f581d1856",
   "metadata": {},
   "outputs": [
    {
     "data": {
      "text/plain": [
       "True"
      ]
     },
     "execution_count": 2,
     "metadata": {},
     "output_type": "execute_result"
    }
   ],
   "source": [
    "torch.cuda.is_available()"
   ]
  },
  {
   "cell_type": "code",
   "execution_count": 3,
   "id": "087b8ff7-1ef7-4d31-8312-280404fab7ba",
   "metadata": {},
   "outputs": [],
   "source": [
    "df = pd.read_csv(\"Data/preprocessed_courses.csv\")"
   ]
  },
  {
   "cell_type": "code",
   "execution_count": 12,
   "id": "740477a5-224f-4f56-99e1-b9f967423383",
   "metadata": {},
   "outputs": [
    {
     "ename": "ModuleNotFoundError",
     "evalue": "No module named 'fastText'",
     "output_type": "error",
     "traceback": [
      "\u001b[1;31m---------------------------------------------------------------------------\u001b[0m",
      "\u001b[1;31mModuleNotFoundError\u001b[0m                       Traceback (most recent call last)",
      "Cell \u001b[1;32mIn[12], line 3\u001b[0m\n\u001b[0;32m      1\u001b[0m \u001b[38;5;28;01mimport\u001b[39;00m \u001b[38;5;21;01mtorch\u001b[39;00m\n\u001b[0;32m      2\u001b[0m \u001b[38;5;28;01mfrom\u001b[39;00m \u001b[38;5;21;01mtransformers\u001b[39;00m \u001b[38;5;28;01mimport\u001b[39;00m AutoTokenizer\n\u001b[1;32m----> 3\u001b[0m \u001b[38;5;28;01mimport\u001b[39;00m \u001b[38;5;21;01mfastText\u001b[39;00m\n\u001b[0;32m      5\u001b[0m \u001b[38;5;66;03m# Define functions for preprocessing, embedding generation, and semantic search\u001b[39;00m\n\u001b[0;32m      7\u001b[0m \u001b[38;5;28;01mdef\u001b[39;00m \u001b[38;5;21mpreprocess_text\u001b[39m(text):\n\u001b[0;32m      8\u001b[0m     \u001b[38;5;66;03m# Replace with your specific preprocessing steps as needed\u001b[39;00m\n",
      "\u001b[1;31mModuleNotFoundError\u001b[0m: No module named 'fastText'"
     ]
    }
   ],
   "source": [
    "import torch\n",
    "from transformers import AutoTokenizer\n",
    "import fastText\n",
    "\n",
    "# Define functions for preprocessing, embedding generation, and semantic search\n",
    "\n",
    "def preprocess_text(text):\n",
    "    # Replace with your specific preprocessing steps as needed\n",
    "    text = text.lower()  # Lowercase\n",
    "    text = text.strip()  # Remove leading/trailing whitespaces\n",
    "    tokens = text.split()  # Tokenize\n",
    "    return tokens\n",
    "\n",
    "def generate_fasttext_embeddings(text_data, model_path):\n",
    "    \"\"\"\n",
    "    Generates FastText embeddings for a list of text data.\n",
    "\n",
    "    Args:\n",
    "        text_data (list): A list of strings, each representing a piece of text.\n",
    "        model_path (str): The path to the pre-trained FastText model file.\n",
    "\n",
    "    Returns:\n",
    "        list: A list of FastText word vectors, corresponding to the input text data.\n",
    "    \"\"\"\n",
    "\n",
    "    model = fasttext.load_model(model_path)\n",
    "    embeddings = []\n",
    "    for text in text_data:\n",
    "        tokens = preprocess_text(text)\n",
    "        if len(tokens) > 0:  # Address potential empty tokens\n",
    "            text_vector = model.get_sentence_vector(tokens)  # Consider using `get_sentence_vector` for improved sentence embeddings\n",
    "        else:\n",
    "            text_vector = model.get_word_vector(\"<PAD>\")  # Use padding vector for empty sentences\n",
    "        embeddings.append(text_vector)\n",
    "    return embeddings\n",
    "\n",
    "def perform_semantic_search(query, text_data, sbert_model_name, fasttext_embeddings=None):\n",
    "    device = torch.device(\"cuda\" if torch.cuda.is_available() else \"cpu\")  # Use GPU if available\n",
    "\n",
    "    model = SentenceTransformer(sbert_model_name).to(device)\n",
    "    tokenizer = AutoTokenizer.from_pretrained(sbert_model_name)\n",
    "\n",
    "    # Preprocess and encode the query sentence\n",
    "    query_tokens = preprocess_text(query)\n",
    "    query_embedding = model.encode(tokenizer(query_tokens, return_tensors=\"pt\", padding=\"max_length\", truncation=True).to(device))[0]\n",
    "\n",
    "    # If FastText embeddings are provided, use them for combined search\n",
    "    if fasttext_embeddings:\n",
    "        combined_embeddings = [(embedding + fasttext_embedding) / 2 for embedding, fasttext_embedding in zip(model.encode(text_data, return_tensors=\"pt\").to(device), fasttext_embeddings)]\n",
    "    else:\n",
    "        combined_embeddings = model.encode(text_data, return_tensors=\"pt\").to(device)\n",
    "\n",
    "    # Calculate cosine similarities between the query and each document\n",
    "    similarities = torch.nn.functional.cosine_similarity(query_embedding.unsqueeze(0), combined_embeddings)\n",
    "    top_indices = similarities.argsort(descending=True)[:5]  # Get top 5 most similar documents\n",
    "\n",
    "    # Return a list of tuples with document indices and similarity scores\n",
    "    return [(i, similarities[i].item()) for i in top_indices]"
   ]
  },
  {
   "cell_type": "code",
   "execution_count": null,
   "id": "5a86ffc0-e472-48ac-bc67-799a95c46f1f",
   "metadata": {},
   "outputs": [],
   "source": []
  },
  {
   "cell_type": "code",
   "execution_count": null,
   "id": "390f3e8a-2336-45ac-8123-32d7a11f0a17",
   "metadata": {},
   "outputs": [],
   "source": []
  },
  {
   "cell_type": "code",
   "execution_count": null,
   "id": "467d8520-1c40-482b-a7ea-34275445599f",
   "metadata": {},
   "outputs": [],
   "source": [
    "# Example usage\n",
    "\n",
    "text_data = [\"This is an example document about machine learning.\",\n",
    "             \"This document discusses natural language processing techniques.\",\n",
    "             \"Here's another document on artificial intelligence.\"]\n",
    "\n",
    "# Choose pre-trained models based on your requirements (e.g., language, domain)\n",
    "model_path = \"Model/cc.en.300.bin.gz\"\n",
    "sbert_model_name = \"all-mpnet-base-v2\"  # Example SBERT model name\n",
    "\n",
    "# Generate FastText embeddings (optional)\n",
    "fasttext_embeddings = generate_fasttext_embeddings(text_data, model_path)\n",
    "\n",
    "query = \"What are the latest advancements in natural language processing?\"\n",
    "\n",
    "# Perform semantic search with both SBERT and optionally FastText\n",
    "results = perform_semantic_search(query, text_data, sbert_model_name, fasttext_embeddings)\n",
    "\n",
    "print(\"Top 5 most similar documents to the query:\")\n",
    "for index, similarity_score in results:\n",
    "    print(f\"\\t- Document {index + 1} (Similarity score: {similarity_score:.4f})\")\n"
   ]
  }
 ],
 "metadata": {
  "kernelspec": {
   "display_name": "Python 3 (ipykernel)",
   "language": "python",
   "name": "python3"
  },
  "language_info": {
   "codemirror_mode": {
    "name": "ipython",
    "version": 3
   },
   "file_extension": ".py",
   "mimetype": "text/x-python",
   "name": "python",
   "nbconvert_exporter": "python",
   "pygments_lexer": "ipython3",
   "version": "3.10.5"
  }
 },
 "nbformat": 4,
 "nbformat_minor": 5
}
