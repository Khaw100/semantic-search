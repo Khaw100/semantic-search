{
 "cells": [
  {
   "cell_type": "code",
   "execution_count": 11,
   "metadata": {},
   "outputs": [],
   "source": [
    "import torch\n",
    "import pandas as pd\n",
    "import re\n",
    "import numpy as np\n",
    "import pickle\n",
    "\n",
    "from sentence_transformers import SentenceTransformer, util\n",
    "from sklearn.metrics.pairwise import cosine_similarity\n",
    "from nltk.corpus import stopwords\n",
    "from nltk.stem import PorterStemmer"
   ]
  },
  {
   "cell_type": "code",
   "execution_count": 4,
   "metadata": {},
   "outputs": [
    {
     "data": {
      "text/plain": [
       "True"
      ]
     },
     "execution_count": 4,
     "metadata": {},
     "output_type": "execute_result"
    }
   ],
   "source": [
    "torch.cuda.is_available()"
   ]
  },
  {
   "cell_type": "code",
   "execution_count": 5,
   "metadata": {},
   "outputs": [],
   "source": [
    "df = pd.read_csv(\"Data/preprocessed_courses.csv\")"
   ]
  },
  {
   "cell_type": "code",
   "execution_count": 6,
   "metadata": {},
   "outputs": [
    {
     "data": {
      "text/plain": [
       "Index(['Unnamed: 0', 'course_id', 'url', 'title', 'translated_title',\n",
       "       'is_paid', 'instructors', 'translated_instructors', 'image_480x270',\n",
       "       'published_title', 'headline', 'translated_headline', 'num_subscribers',\n",
       "       'avg_rating', 'avg_rating_recent', 'rating', 'num_reviews',\n",
       "       'num_published_lectures', 'num_published_practice_tests',\n",
       "       'has_closed_caption', 'created_at', 'instructional_level',\n",
       "       'published_at', 'objectives_summary', 'translated_objectives_summary',\n",
       "       'is_recently_published', 'last_update_date', 'content_info', 'category',\n",
       "       'char_count', 'description', 'preprocessed_description_stemmed',\n",
       "       'preprocessed_description_unstemmed'],\n",
       "      dtype='object')"
      ]
     },
     "execution_count": 6,
     "metadata": {},
     "output_type": "execute_result"
    }
   ],
   "source": [
    "df.columns"
   ]
  },
  {
   "cell_type": "code",
   "execution_count": 18,
   "metadata": {},
   "outputs": [],
   "source": [
    "class Preprocessor:\n",
    "    def __init__(self):\n",
    "        self.stop_words = set(stopwords.words('english'))\n",
    "        self.stemmer = PorterStemmer()\n",
    "\n",
    "    def remove_punctuation(self, text):\n",
    "        punct_pattern = re.compile(r'[^\\w\\s]')\n",
    "        return punct_pattern.sub(' ', text)\n",
    "\n",
    "    def remove_stopwords(self, text):\n",
    "        filtered_text = [word for word in text.split() if word.lower() not in self.stop_words]\n",
    "        return ' '.join(filtered_text)\n",
    "\n",
    "    def remove_extra_whitespaces(self, text):\n",
    "        whitespace_pattern = re.compile(r'\\s+')\n",
    "        return whitespace_pattern.sub(' ', text)\n",
    "\n",
    "    def remove_numbers(self, text):\n",
    "        number_pattern = re.compile(r'\\d+')\n",
    "        return number_pattern.sub(' ', text)\n",
    "\n",
    "    def stem_text_porter(self, text):\n",
    "        stemmed_words = [self.stemmer.stem(word) for word in text.split()]\n",
    "        return ' '.join(stemmed_words)\n",
    "\n",
    "    def preprocessing_with_stemming(self, text):\n",
    "        text = text.lower()\n",
    "        text = self.remove_punctuation(text)\n",
    "        text = self.remove_numbers(text)\n",
    "        text = self.remove_stopwords(text)\n",
    "        text = self.remove_extra_whitespaces(text)\n",
    "        text = self.stem_text_porter(text)\n",
    "        return text\n",
    "\n",
    "    def preprocessing_without_stemming(self, text):\n",
    "        text = text.lower()\n",
    "        text = self.remove_punctuation(text)\n",
    "        text = self.remove_numbers(text)\n",
    "        text = self.remove_stopwords(text)\n",
    "        text = self.remove_extra_whitespaces(text)\n",
    "        return text\n",
    "\n",
    "\n",
    "class SBERTModel:\n",
    "    def __init__(self, data):\n",
    "        self.data = data\n",
    "        self.device = \"cuda\" if torch.cuda.is_available() else \"cpu\"\n",
    "        self.model = SentenceTransformer('distilbert-base-nli-mean-tokens', device=self.device)\n",
    "        self.preprocessor = Preprocessor()\n",
    "\n",
    "    def fit_transform(self):\n",
    "        self.course_embeddings = self.model.encode(self.data['preprocessed_description_stemmed'].tolist()) \n",
    "\n",
    "    def semantic_search_stemmed(self, query, n_tops=5, similarity_threshold=0.07):\n",
    "        preprocessed_query = self.preprocessor.preprocessing_with_stemming(query)\n",
    "        query_embedding = self.model.encode(preprocessed_query)\n",
    "        cos_similarities = util.pytorch_cos_sim(query_embedding.unsqueeze(0), self.course_embeddings)\n",
    "        relevant_indices = cos_similarities.squeeze() >= similarity_threshold\n",
    "        filtered_data = self.data[relevant_indices]\n",
    "        if not filtered_data.empty:\n",
    "            top_results = filtered_data.iloc[cos_similarities[relevant_indices].argsort()[::-1][:n_tops]]\n",
    "            return top_results\n",
    "        else:\n",
    "            return pd.DataFrame(columns=self.data.columns)\n",
    "\n",
    "    def semantic_search_unstemmed(self, query, n_tops=5, similarity_threshold=0.07):\n",
    "        preprocessed_query = self.preprocessor.preprocessing_without_stemming(query)\n",
    "        query_embedding = self.model.encode(preprocessed_query)\n",
    "        cos_similarities = util.pytorch_cos_sim(query_embedding.unsqueeze(0), self.course_embeddings)\n",
    "        relevant_indices = cos_similarities.squeeze() >= similarity_threshold\n",
    "        filtered_data = self.data[relevant_indices]\n",
    "        if not filtered_data.empty:\n",
    "            top_results = filtered_data.iloc[cos_similarities[relevant_indices].argsort()[::-1][:n_tops]]\n",
    "            return top_results\n",
    "        else:\n",
    "            return pd.DataFrame(columns=self.data.columns)\n",
    "\n",
    "    def semantic_search(self, query, top_n=5, similarity_threshold=0.07):\n",
    "        preprocessed_query = self.preprocessor.preprocessing_with_stemming(query)\n",
    "        query_embedding = self.model.encode(preprocessed_query)\n",
    "\n",
    "        # Convert numpy arrays to PyTorch tensors\n",
    "        query_tensor = torch.tensor(query_embedding, dtype=torch.float32)\n",
    "        course_tensor = torch.tensor(self.course_embeddings, dtype=torch.float32)\n",
    "        # Reshape query tensor (1,768)\n",
    "        query_tensor = query_tensor.unsqueeze(0)\n",
    "        \n",
    "        # Compute cosine similarity using PyTorch\n",
    "        cos_similarities = torch.nn.functional.cosine_similarity(course_tensor, query_tensor, dim=1)\n",
    "\n",
    "        # Sort documents based on similarity\n",
    "        top_indices = np.array(cos_similarities.argsort(descending=True))\n",
    "\n",
    "        print(top_indices.shape)\n",
    "        \n",
    "        # Filter documents with similarity score > similarity_threshold\n",
    "        # results = {\"results\":[]}\n",
    "        # for index in top_indices:\n",
    "        #     similarity_score = cos_similarities[index]\n",
    "        #     filtered_item = {}\n",
    "        #     if similarity_score > similarity_threshold:\n",
    "        #         filtered_item['item_title'] = self.data.iloc[index]['title']\n",
    "        #         filtered_item['item_translated_title'] = self.data.iloc[index]['translated_title']\n",
    "        #         filtered_item['item_headline'] =  self.data.iloc[index]['headline']\n",
    "        #         filtered_item['item_translated_headline'] =  self.data.iloc[index]['translated_headline']\n",
    "        #         filtered_item['item_objectives'] = self.data.iloc[index]['objectives_summary']\n",
    "        #         filtered_item['item_translated_objectives'] =  self.data.iloc[index]['translated_objectives_summary']\n",
    "        #         filtered_item['item_score'] = similarity_score\n",
    "        #         results[\"results\"].append(filtered_item)\n",
    "\n",
    "\n",
    "        # Filter documents with similarity score > similarity_threshold\n",
    "        results = {\"results\":[]}\n",
    "        \n",
    "        # Filter indices based on similarity threshold\n",
    "        indices_above_threshold = top_indices[cos_similarities[top_indices] > similarity_threshold]\n",
    "        \n",
    "        # Retrieve filtered items directly from DataFrame\n",
    "        for index in indices_above_threshold:\n",
    "            filtered_item = {\n",
    "                'item_title': self.data.at[index, 'title'],\n",
    "                'item_translated_title': self.data.at[index, 'translated_title'],\n",
    "                'item_headline': self.data.at[index, 'headline'],\n",
    "                'item_translated_headline': self.data.at[index, 'translated_headline'],\n",
    "                'item_objectives': self.data.at[index, 'objectives_summary'],\n",
    "                'item_translated_objectives': self.data.at[index, 'translated_objectives_summary'],\n",
    "                'item_score': cos_similarities[index]\n",
    "            }\n",
    "            results[\"results\"].append(filtered_item)\n",
    "        return results"
   ]
  },
  {
   "cell_type": "code",
   "execution_count": 19,
   "metadata": {},
   "outputs": [],
   "source": [
    "model = SBERTModel(df)"
   ]
  },
  {
   "cell_type": "code",
   "execution_count": 20,
   "metadata": {},
   "outputs": [],
   "source": [
    "model.fit_transform()"
   ]
  },
  {
   "cell_type": "code",
   "execution_count": 21,
   "metadata": {},
   "outputs": [],
   "source": [
    "# Save the model to a file using pickle\n",
    "with open('model\\sbert_model.pxl', 'wb') as file:\n",
    "    pickle.dump(model, file)"
   ]
  },
  {
   "cell_type": "code",
   "execution_count": 61,
   "metadata": {},
   "outputs": [],
   "source": [
    "query = \"basics of calesthenics\""
   ]
  },
  {
   "cell_type": "code",
   "execution_count": 62,
   "metadata": {},
   "outputs": [
    {
     "name": "stdout",
     "output_type": "stream",
     "text": [
      "(111018,)\n"
     ]
    }
   ],
   "source": [
    "a = model.semantic_search(query, top_n=5, similarity_threshold=0.7)"
   ]
  },
  {
   "cell_type": "code",
   "execution_count": 63,
   "metadata": {},
   "outputs": [
    {
     "name": "stdout",
     "output_type": "stream",
     "text": [
      "\n",
      "Result: \n",
      "0, Basics of 5S\n",
      "    Headline : 5S terminology\n",
      "    Objectives Summary : ['What is 5S']\n",
      "    Similarity Score : 0.8630610108375549\n",
      "    \n",
      "1, Basics of venture capital\n",
      "    Headline : To understand the basics of venture capital and private equity\n",
      "    Objectives Summary : ['Basics of venture capital']\n",
      "    Similarity Score : 0.7879074215888977\n",
      "    \n",
      "2, Perspective drawing\n",
      "    Headline : theory and practice\n",
      "    Objectives Summary : ['Draw correctly in the perspective. Theory and practice.']\n",
      "    Similarity Score : 0.7400009632110596\n",
      "    \n",
      "3, CHINESAY: EASY CHINESE\n",
      "    Headline : Elementary\n",
      "    Objectives Summary : ['Primary Chinese', 'Primary Chinese', 'Interesting Chinese Knowledge']\n",
      "    Similarity Score : 0.7386841177940369\n",
      "    \n",
      "4, Fundamentals of Insurance - 2\n",
      "    Headline : Fundamentals of Insurance - 2\n",
      "    Objectives Summary : ['Fundamentals of Insurance']\n",
      "    Similarity Score : 0.7302720546722412\n",
      "    \n",
      "5, Fundamentals of Insurance - 1\n",
      "    Headline : Fundamentals of Insurance - 1\n",
      "    Objectives Summary : ['Fundamentals of Insurance']\n",
      "    Similarity Score : 0.7302720546722412\n",
      "    \n",
      "6, How To Fence\n",
      "    Headline : Your Step By Step Guide To Fencing\n",
      "    Objectives Summary : ['How To Fence']\n",
      "    Similarity Score : 0.7300724983215332\n",
      "    \n",
      "7, Setting Up Calendly\n",
      "    Headline : A beginners guide\n",
      "    Objectives Summary : ['Setting up Calendly']\n",
      "    Similarity Score : 0.7257510423660278\n",
      "    \n",
      "8, SOUND THEORY\n",
      "    Headline : BASICS OF ACOUSTIC\n",
      "    Objectives Summary : ['Basics of Acustic', 'Sound Theory', 'Acoustics Rules']\n",
      "    Similarity Score : 0.7233648896217346\n",
      "    \n",
      "9, Privacy Policies\n",
      "    Headline : Basic notions\n",
      "    Objectives Summary : ['Structure a document on privacy policies']\n",
      "    Similarity Score : 0.7225893139839172\n",
      "    \n",
      "10, A comprehensive massage course\n",
      "    Headline : A comprehensive massage course\n",
      "    Objectives Summary : ['In this course you will study all the basics of massage.']\n",
      "    Similarity Score : 0.7192634344100952\n",
      "    \n",
      "11, Fundamentals of Mechanics of Materials\n",
      "    Headline : Solid Mechanics\n",
      "    Objectives Summary : ['Fundamentals of Mechanics of Materials']\n",
      "    Similarity Score : 0.7188893556594849\n",
      "    \n",
      "12, Lectures on Control Systems Engineering\n",
      "    Headline : From Beginners to Advanced\n",
      "    Objectives Summary : ['Control Systems Engineering']\n",
      "    Similarity Score : 0.7184827923774719\n",
      "    \n",
      "13, Environmental supervision\n",
      "    Headline : From basic to advanced\n",
      "    Objectives Summary : ['Environmental Inspection']\n",
      "    Similarity Score : 0.7158398628234863\n",
      "    \n",
      "14, Fundamentals of Engineering Mechanics\n",
      "    Headline : Engineering Mechanics\n",
      "    Objectives Summary : ['Fundamentals of Engineering Mechanics']\n",
      "    Similarity Score : 0.7058659791946411\n",
      "    \n",
      "15, IKMF Requirements Maga Category: Basic\n",
      "    Headline : Family: Stances and Movements\n",
      "    Objectives Summary : ['IKMF Requirements Maga Basics']\n",
      "    Similarity Score : 0.7036632895469666\n",
      "    \n"
     ]
    }
   ],
   "source": [
    "print('\\nResult: ')\n",
    "item_names = [item['item_translated_title'] for item in a['results']]\n",
    "item_os = [item['item_translated_objectives'] for item in a['results']]\n",
    "item_head = [item['item_translated_headline'] for item in a['results']]\n",
    "item_score = [item['item_score'] for item in a['results']]\n",
    "\n",
    "for i in range(len(a['results'])):\n",
    "    print(f'''{i}, {item_names[i]}\n",
    "    Headline : {item_head[i]}\n",
    "    Objectives Summary : {item_os[i]}\n",
    "    Similarity Score : {item_score[i]}\n",
    "    ''')\n",
    "    "
   ]
  },
  {
   "cell_type": "markdown",
   "metadata": {},
   "source": [
    "## Load the model"
   ]
  },
  {
   "cell_type": "code",
   "execution_count": 32,
   "metadata": {},
   "outputs": [],
   "source": [
    "with open('model\\sbert_model.pxl', 'rb') as file:\n",
    "    loaded_model = pickle.load(file)"
   ]
  },
  {
   "cell_type": "code",
   "execution_count": 83,
   "metadata": {},
   "outputs": [
    {
     "name": "stdout",
     "output_type": "stream",
     "text": [
      "(111018,)\n"
     ]
    }
   ],
   "source": [
    "query = 'what is bitcoin'\n",
    "top_results = loaded_model.semantic_search(query)"
   ]
  },
  {
   "cell_type": "code",
   "execution_count": 84,
   "metadata": {},
   "outputs": [
    {
     "name": "stdout",
     "output_type": "stream",
     "text": [
      "Result: \n",
      "0, Blockchain Technology - Bitcoin Fundamentals\n",
      "    Objectives Summary : ['Fundamentals of Bitcoin']\n",
      "    Similarity Score : 0.8316653966903687\n",
      "    \n",
      "1, ECO21: The Bitcoin Standard\n",
      "    Objectives Summary : ['Economics of bitcoin']\n",
      "    Similarity Score : 0.7819472551345825\n",
      "    \n",
      "2, The complete Cryptocurrency trading course A to Z in 2021\n",
      "    Objectives Summary : ['How to buy Bitcoin/other cryptocurrencies', 'How to use Tradingview', 'How to use Binance cryptocurrency exchange']\n",
      "    Similarity Score : 0.7628757357597351\n",
      "    \n",
      "3, Online Bitcoin Course - How does it work?\n",
      "    Objectives Summary : ['How Bitcoin differs from (the policy of) the euro', 'How Bitcoin differs from payments via banks', 'what is the importance of the miners and nodes']\n",
      "    Similarity Score : 0.7408488392829895\n",
      "    \n",
      "4, WEBSITE 101: Create Webpages and Website\n",
      "    Objectives Summary : ['Website that generate revenue']\n",
      "    Similarity Score : 0.7351107001304626\n",
      "    \n"
     ]
    }
   ],
   "source": [
    "print('Result: ')\n",
    "item_names = [item['item_translated_title'] for item in top_results['results']]\n",
    "item_os = [item['item_translated_objectives'] for item in top_results['results']]\n",
    "item_score = [item['item_score'] for item in top_results['results']]\n",
    "\n",
    "for i in range(5):\n",
    "    print(f'''{i}, {item_names[i]}\n",
    "    Objectives Summary : {item_os[i]}\n",
    "    Similarity Score : {item_score[i]}\n",
    "    ''')\n",
    "    "
   ]
  },
  {
   "cell_type": "code",
   "execution_count": 73,
   "metadata": {},
   "outputs": [],
   "source": [
    "money_in_description = df['description'].str.contains('money')\n",
    "# Filter DataFrame berdasarkan hasil pencarian kata \"money\"\n",
    "money_data = df[money_in_description][['category']]\n"
   ]
  },
  {
   "cell_type": "code",
   "execution_count": 75,
   "metadata": {},
   "outputs": [
    {
     "data": {
      "text/html": [
       "<div>\n",
       "<style scoped>\n",
       "    .dataframe tbody tr th:only-of-type {\n",
       "        vertical-align: middle;\n",
       "    }\n",
       "\n",
       "    .dataframe tbody tr th {\n",
       "        vertical-align: top;\n",
       "    }\n",
       "\n",
       "    .dataframe thead th {\n",
       "        text-align: right;\n",
       "    }\n",
       "</style>\n",
       "<table border=\"1\" class=\"dataframe\">\n",
       "  <thead>\n",
       "    <tr style=\"text-align: right;\">\n",
       "      <th></th>\n",
       "      <th>category</th>\n",
       "    </tr>\n",
       "  </thead>\n",
       "  <tbody>\n",
       "    <tr>\n",
       "      <th>78565</th>\n",
       "      <td>finance</td>\n",
       "    </tr>\n",
       "    <tr>\n",
       "      <th>78588</th>\n",
       "      <td>finance</td>\n",
       "    </tr>\n",
       "    <tr>\n",
       "      <th>78596</th>\n",
       "      <td>finance</td>\n",
       "    </tr>\n",
       "    <tr>\n",
       "      <th>78666</th>\n",
       "      <td>finance</td>\n",
       "    </tr>\n",
       "    <tr>\n",
       "      <th>78679</th>\n",
       "      <td>finance</td>\n",
       "    </tr>\n",
       "    <tr>\n",
       "      <th>...</th>\n",
       "      <td>...</td>\n",
       "    </tr>\n",
       "    <tr>\n",
       "      <th>87782</th>\n",
       "      <td>finance</td>\n",
       "    </tr>\n",
       "    <tr>\n",
       "      <th>87786</th>\n",
       "      <td>finance</td>\n",
       "    </tr>\n",
       "    <tr>\n",
       "      <th>87790</th>\n",
       "      <td>finance</td>\n",
       "    </tr>\n",
       "    <tr>\n",
       "      <th>87804</th>\n",
       "      <td>finance</td>\n",
       "    </tr>\n",
       "    <tr>\n",
       "      <th>87814</th>\n",
       "      <td>finance</td>\n",
       "    </tr>\n",
       "  </tbody>\n",
       "</table>\n",
       "<p>833 rows × 1 columns</p>\n",
       "</div>"
      ],
      "text/plain": [
       "      category\n",
       "78565  finance\n",
       "78588  finance\n",
       "78596  finance\n",
       "78666  finance\n",
       "78679  finance\n",
       "...        ...\n",
       "87782  finance\n",
       "87786  finance\n",
       "87790  finance\n",
       "87804  finance\n",
       "87814  finance\n",
       "\n",
       "[833 rows x 1 columns]"
      ]
     },
     "execution_count": 75,
     "metadata": {},
     "output_type": "execute_result"
    }
   ],
   "source": [
    "money_data[money_data['category'] == 'finance']"
   ]
  },
  {
   "cell_type": "code",
   "execution_count": 76,
   "metadata": {},
   "outputs": [
    {
     "data": {
      "text/plain": [
       "'Cryptocurrency Investment Course 2022: Fund your Retirement! Complete A-Z Guide to Bitcoin, Blockchain, Ethereum, Altcoins, Metaverse, NFT, DeFi & Meme coins for your retirement! [\\'Learn everything you need to know about Cryptocurrency and go from Beginner to Advanced in 10 hours!\\', \\'Learn how to exploit money-making narratives such as Metaverse, NFT, DeFi, Launchpads, & Meme coins\\', \"Learn the best of what I\\'ve learnt and done to be 13,000,000% up on my initial investment\"] All Levels'"
      ]
     },
     "execution_count": 76,
     "metadata": {},
     "output_type": "execute_result"
    }
   ],
   "source": [
    "df.iloc[78565]['description']"
   ]
  },
  {
   "cell_type": "markdown",
   "metadata": {
    "jp-MarkdownHeadingCollapsed": true
   },
   "source": [
    "## Non Class Code"
   ]
  },
  {
   "cell_type": "code",
   "execution_count": 102,
   "metadata": {},
   "outputs": [],
   "source": [
    "device = \"cuda\" if torch.cuda.is_available() else \"cpu\"\n",
    "mdl = SentenceTransformer('distilbert-base-nli-mean-tokens', device=device)\n",
    "preprocessor = Preprocessor()"
   ]
  },
  {
   "cell_type": "code",
   "execution_count": 104,
   "metadata": {},
   "outputs": [],
   "source": [
    "course_embeddings = mdl.encode(df['preprocessed_description_stemmed'].tolist()) "
   ]
  },
  {
   "cell_type": "code",
   "execution_count": 105,
   "metadata": {},
   "outputs": [
    {
     "data": {
      "text/plain": [
       "array([[-0.4768942 , -0.39215064,  0.9613717 , ..., -0.13957281,\n",
       "         0.37907663, -0.9578005 ],\n",
       "       [-0.8194377 , -0.13334247,  0.9758199 , ..., -0.08484241,\n",
       "         0.18593004, -1.2146381 ],\n",
       "       [-0.5468608 , -0.21927261,  0.7769774 , ..., -0.44310072,\n",
       "         0.7263519 , -1.0151007 ],\n",
       "       ...,\n",
       "       [-0.55172014, -0.27746943,  0.58747834, ..., -0.01891056,\n",
       "         0.30784747, -0.5556028 ],\n",
       "       [-0.64131   , -0.04391116,  0.980867  , ..., -0.10511277,\n",
       "         0.2070878 , -0.5190067 ],\n",
       "       [-0.16775839, -0.35063952,  0.95692897, ...,  0.37000546,\n",
       "         0.11017403, -0.51585865]], dtype=float32)"
      ]
     },
     "execution_count": 105,
     "metadata": {},
     "output_type": "execute_result"
    }
   ],
   "source": [
    "course_embeddings"
   ]
  },
  {
   "cell_type": "code",
   "execution_count": 122,
   "metadata": {},
   "outputs": [],
   "source": [
    "query = 'learning how to be an entrepreneur'\n",
    "preprocessed_query = preprocessor.preprocessing_with_stemming(query)\n",
    "query_embedding = mdl.encode(preprocessed_query)"
   ]
  },
  {
   "cell_type": "code",
   "execution_count": 123,
   "metadata": {},
   "outputs": [
    {
     "data": {
      "text/plain": [
       "array([-1.36326075e+00, -2.86050346e-02,  2.37084031e-01, -1.93290973e+00,\n",
       "        1.92263752e-01, -1.00587916e+00,  6.71310246e-01, -5.28989255e-01,\n",
       "        1.35767102e-01, -7.64531791e-01, -1.36750191e-02,  7.63123751e-01,\n",
       "        1.99712217e-01,  1.41949445e-01,  1.47721797e-01, -1.05926943e+00,\n",
       "        9.72206667e-02, -2.32496411e-01, -1.10530138e+00, -8.01972389e-01,\n",
       "        3.93903166e-01,  1.54947534e-01, -2.60417014e-01,  7.08105683e-01,\n",
       "        7.34101087e-02, -2.79242456e-01, -5.24252504e-02, -2.20675856e-01,\n",
       "        3.82098436e-01,  3.51612568e-01, -2.18476549e-01,  3.17307621e-01,\n",
       "        4.44033802e-01, -1.57705918e-01, -1.53170764e-01, -1.63975030e-01,\n",
       "        1.86067611e-01, -1.22920856e-01,  3.79963703e-02, -6.73757959e-03,\n",
       "        2.77976573e-01,  5.43610573e-01,  6.35683015e-02,  1.11002803e+00,\n",
       "       -4.01353866e-01, -6.22704446e-01, -1.21765232e+00,  2.89647788e-01,\n",
       "       -1.09471536e+00, -3.25963907e-02,  4.46626872e-01, -5.81927717e-01,\n",
       "        2.89539665e-01, -6.79440737e-01, -1.34631252e+00, -6.69208393e-02,\n",
       "       -9.54871178e-01, -3.79390389e-01,  1.60967958e+00,  1.19762957e-01,\n",
       "       -1.16059169e-01,  1.25730407e+00,  6.07083440e-02, -6.98220253e-01,\n",
       "        1.60996228e-01,  4.42227364e-01,  3.85998726e-01,  6.44190609e-01,\n",
       "       -7.94829369e-01, -6.31999731e-01, -1.26149401e-01, -8.38490009e-01,\n",
       "       -3.45328510e-01, -6.95432663e-01, -5.37687540e-02, -4.16709334e-01,\n",
       "        1.85764968e-01,  9.34446096e-01,  8.34110439e-01, -6.73784018e-02,\n",
       "       -4.68634814e-02, -3.43581438e-02, -8.08875442e-01,  5.62167406e-01,\n",
       "       -8.19362521e-01, -5.26563972e-02, -6.94298148e-01, -5.38430214e-01,\n",
       "       -6.75656438e-01,  1.02267766e+00,  7.65483141e-01, -8.70814323e-01,\n",
       "        3.89406443e-01,  5.94855666e-01, -8.52312982e-01, -8.47475529e-01,\n",
       "       -6.37591779e-01, -3.77727687e-01, -2.82822996e-01,  4.55471963e-01,\n",
       "        6.26249850e-01,  2.70969510e-01,  1.05542772e-01,  3.05063665e-01,\n",
       "       -1.07573085e-01,  1.17859876e+00,  8.19394112e-01,  7.53100663e-02,\n",
       "       -2.86069542e-01, -4.29929763e-01,  5.48580885e-01, -1.01775301e+00,\n",
       "        5.41215181e-01,  1.04612660e+00, -3.35962057e-01,  3.10229629e-01,\n",
       "       -7.06717670e-01, -3.01136464e-01,  3.13477032e-02, -4.40183580e-01,\n",
       "       -6.86384201e-01,  1.14729278e-01, -1.12586647e-01,  7.65332162e-01,\n",
       "       -1.58333123e-01,  9.99157429e-01, -4.96782362e-03, -6.39812797e-02,\n",
       "        3.25524777e-01, -8.60129416e-01,  6.56732082e-01, -1.83830351e-01,\n",
       "        1.55874863e-01, -4.81810242e-01, -5.03063202e-01, -5.12662902e-02,\n",
       "        3.51812601e-01,  3.41800869e-01, -5.45286536e-01,  1.27298355e-01,\n",
       "       -1.34831369e-01,  1.13678873e+00,  4.31966662e-01, -6.19573653e-01,\n",
       "        1.18624330e+00,  1.96758032e-01, -6.78509295e-01, -5.93442798e-01,\n",
       "       -1.50175244e-01, -1.88079461e-01, -1.22581363e+00,  6.32003397e-02,\n",
       "       -8.43288302e-02, -6.36484385e-01, -4.15830851e-01, -6.50779963e-01,\n",
       "       -9.19605851e-01, -3.13181430e-01, -2.08054721e-01,  4.89108443e-01,\n",
       "       -5.98587215e-01,  5.22131741e-01,  9.14619714e-02,  2.32726708e-01,\n",
       "       -5.09567738e-01, -3.46392244e-01, -2.92955786e-01, -5.38578629e-01,\n",
       "        1.02457426e-01,  3.55406515e-02,  8.19347918e-01, -4.53248657e-02,\n",
       "        6.28331900e-01,  1.03915811e+00, -3.71102542e-01,  4.85244930e-01,\n",
       "       -3.66504997e-01, -9.87998128e-01, -7.64351726e-01, -1.79353386e-01,\n",
       "        5.48913777e-01, -3.42411339e-01,  2.21591100e-01, -2.64423013e-01,\n",
       "       -9.06006932e-01, -2.24502832e-01, -9.37549055e-01, -2.36279130e+00,\n",
       "       -1.34536505e+00,  1.70586571e-01,  1.46922395e-01,  6.37952447e-01,\n",
       "        4.67708170e-01,  3.51442903e-01,  6.03673697e-01,  2.97647893e-01,\n",
       "        4.09447551e-01, -4.93820012e-03, -1.66846693e-01, -8.15963149e-01,\n",
       "       -2.94082940e-01, -4.11035836e-01, -1.41404450e-01,  1.05929732e+00,\n",
       "       -3.19333285e-01,  8.75593245e-01,  4.41657454e-02, -8.19781780e-01,\n",
       "       -3.24325770e-01, -4.58778650e-01,  2.74568200e-01,  3.34070712e-01,\n",
       "       -2.69220620e-01, -9.00478661e-01,  5.56862116e-01,  9.34952617e-01,\n",
       "        2.80236453e-02, -2.20475435e-01, -5.66081703e-01,  8.67882222e-02,\n",
       "       -2.12146878e-01, -4.06726211e-01, -1.84050232e-01, -6.23177350e-01,\n",
       "       -1.86151668e-01, -3.23094726e-01,  1.07021689e+00,  7.91840494e-01,\n",
       "        6.37151077e-02, -3.43003154e-01, -9.37807918e-01,  6.51398659e-01,\n",
       "        8.83671194e-02,  2.08670750e-01, -1.88797563e-01,  5.56624949e-01,\n",
       "       -4.66159374e-01, -1.17245770e+00,  5.99571228e-01, -3.16653550e-01,\n",
       "        5.98284423e-01,  3.99735644e-02, -1.14905953e+00,  3.33653033e-01,\n",
       "        2.92727113e-01,  2.77481169e-01,  6.00046754e-01, -1.15192242e-01,\n",
       "        8.61539245e-01,  1.92289978e-01, -1.13130033e+00, -4.57916796e-01,\n",
       "       -3.56645696e-03,  3.25030476e-01,  8.07876050e-01, -3.10241818e-01,\n",
       "       -5.30869961e-01, -3.08686852e-01,  7.15826869e-01,  5.02165735e-01,\n",
       "        7.60199875e-02,  1.72180682e-01,  4.76740301e-01,  1.33328211e+00,\n",
       "       -2.87365556e-01,  4.51724157e-02, -9.93567705e-01, -2.35792294e-01,\n",
       "        1.02484517e-01,  2.15682685e-02, -7.95978069e-01,  6.92845821e-01,\n",
       "       -1.68715313e-01,  5.42732000e-01,  4.39185560e-01,  7.28372857e-03,\n",
       "        2.27912039e-01,  2.83995777e-01, -9.71515924e-02,  6.83273673e-01,\n",
       "        5.21797240e-02, -8.20218682e-01,  8.39734264e-03, -4.10214484e-01,\n",
       "        3.39805186e-01,  7.29321659e-01, -6.58802629e-01, -8.61050487e-01,\n",
       "        2.51560032e-01, -8.79547596e-01,  1.43356159e-01,  5.94172537e-01,\n",
       "       -7.69722462e-01,  1.65407991e+00,  4.94812906e-01, -1.22098058e-01,\n",
       "        4.37170744e-01,  5.26588738e-01, -8.88486445e-01,  6.55893445e-01,\n",
       "        1.39982447e-01,  3.01191211e-01, -1.40158042e-01, -3.43879670e-01,\n",
       "       -7.64120340e-01,  4.64580774e-01,  7.06568897e-01, -8.65872502e-01,\n",
       "        2.81601340e-01, -4.81343985e-01,  1.70946032e-01, -4.77588326e-02,\n",
       "       -8.40021372e-01,  5.95926583e-01,  6.24278009e-01,  6.64832711e-01,\n",
       "        2.96563268e-01, -6.07738309e-02, -9.99835059e-02,  9.48612615e-02,\n",
       "       -8.86909604e-01,  1.97530314e-01, -8.47460270e-01,  3.45567018e-01,\n",
       "        4.47317600e-01,  6.85590148e-01, -1.06125140e+00,  5.16924918e-01,\n",
       "       -5.94882905e-01,  5.19200563e-01,  7.61685193e-01,  6.78456873e-02,\n",
       "        2.70043500e-02, -3.64218615e-02,  8.65274131e-01,  4.94433761e-01,\n",
       "       -1.20213628e+00,  1.03981316e+00, -3.82495940e-01,  4.65177327e-01,\n",
       "       -1.63876891e-01, -3.30402732e-01, -6.37387812e-01, -3.51572007e-01,\n",
       "        2.13722020e-01, -7.54844546e-01, -5.05615115e-01,  7.42106676e-01,\n",
       "       -1.27934292e-01,  4.34712842e-02, -2.53816307e-01,  6.20813847e-01,\n",
       "        4.29984897e-01, -6.28790498e-01,  6.40977800e-01, -6.40257969e-02,\n",
       "        2.23916873e-01, -4.01385546e-01,  1.49816647e-01,  1.44127989e+00,\n",
       "       -3.52808833e-01, -4.27439995e-02,  7.78349638e-01, -1.67137742e-01,\n",
       "        8.50668192e-01,  5.46356082e-01, -7.56345570e-01,  1.46575850e-02,\n",
       "        1.28944111e+00,  1.39838815e+00,  8.40219259e-01, -5.95313236e-02,\n",
       "        9.88837004e-01, -6.04776084e-01,  2.12833911e-01,  1.37469217e-01,\n",
       "        2.85323501e-01,  2.36603603e-01, -4.88993853e-01,  5.82593419e-02,\n",
       "        1.02066374e+00, -6.88897967e-01, -6.47075772e-01, -4.30338502e-01,\n",
       "       -5.39796352e-01,  4.42127585e-01, -9.26586986e-01, -5.93000688e-02,\n",
       "        7.61179566e-01,  4.63409692e-01, -5.61941981e-01,  2.25476578e-01,\n",
       "       -2.51737982e-03,  3.53491545e-01,  1.57421201e-01,  4.33735430e-01,\n",
       "        8.90369266e-02,  7.76996493e-01, -5.35731137e-01, -2.05009878e-01,\n",
       "        7.08938003e-01,  1.41987395e+00, -8.56786743e-02, -1.15797794e+00,\n",
       "        9.58176732e-01, -2.05564186e-01,  4.71162528e-01, -7.45377317e-02,\n",
       "        1.02166617e+00, -7.32866287e-01, -8.72730970e-01,  1.82348415e-01,\n",
       "        3.67293924e-01,  1.84268519e-01,  2.88788676e-01, -5.20917058e-01,\n",
       "       -4.72437441e-01, -5.96010625e-01,  4.30223465e-01,  1.07909107e+00,\n",
       "       -1.14255881e+00,  1.54143894e+00, -8.74965310e-01, -9.08521563e-02,\n",
       "       -7.76636675e-02, -8.51044893e-01,  3.91940564e-01,  2.26002261e-01,\n",
       "       -3.36366922e-01,  4.36068296e-01,  8.51835310e-01, -5.85020900e-01,\n",
       "       -5.37104309e-01, -3.38006586e-01, -9.74139392e-01, -7.63726383e-02,\n",
       "        3.40571910e-01, -5.71102440e-01, -1.10052943e+00, -1.86556742e-01,\n",
       "        8.73017758e-02, -3.06579679e-01, -4.53742802e-01, -9.49109346e-02,\n",
       "        8.25792670e-01,  6.15402997e-01,  4.44381684e-01,  2.38213956e-01,\n",
       "        2.33859979e-02, -6.63622260e-01,  1.40126061e+00, -2.95935899e-01,\n",
       "        3.07092398e-01,  1.50213996e-02, -7.69750595e-01,  3.08102846e-01,\n",
       "       -5.48942447e-01,  7.65828252e-01, -6.21052504e-01,  2.52840787e-01,\n",
       "        9.13411751e-02,  4.56327498e-02, -2.27658391e-01,  5.95080614e-01,\n",
       "       -2.63727248e-01, -5.41337170e-02, -1.23914937e-02, -4.88017648e-01,\n",
       "        1.00555785e-01,  7.57966816e-01, -4.21157479e-01, -1.47292763e-01,\n",
       "        2.11395442e-01,  1.15196073e+00, -1.51566818e-01, -1.44664156e+00,\n",
       "       -2.31914386e-01, -1.23170984e+00,  1.48591101e-01, -1.33278644e+00,\n",
       "       -6.53297782e-01, -1.06028569e+00, -3.41999888e-01,  3.71098250e-01,\n",
       "        1.17068201e-01, -7.64317930e-01,  6.80353105e-01, -1.24780126e-01,\n",
       "        9.60276961e-01, -9.29240823e-01, -3.13159108e-01,  3.26624274e-01,\n",
       "        4.31308985e-01, -6.44952536e-01, -1.13066360e-01, -2.32356876e-01,\n",
       "        4.44368094e-01,  5.82863390e-01, -5.71214482e-02, -6.38362408e-01,\n",
       "        2.96626300e-01, -4.61069822e-01,  5.18442750e-01,  7.45510757e-01,\n",
       "        1.42787004e+00,  3.54747057e-01, -3.57221276e-01, -4.08477746e-02,\n",
       "       -5.81787288e-01,  3.36427651e-02,  7.90483892e-01, -1.74010515e-01,\n",
       "        1.00904894e+00,  8.22798759e-02,  9.64056775e-02,  4.28056777e-01,\n",
       "       -1.34893090e-01,  5.57092369e-01,  8.71319026e-02,  1.96171433e-01,\n",
       "       -6.92710698e-01,  9.81441364e-02,  7.93279856e-02,  3.32156181e-01,\n",
       "        6.06569052e-01,  8.50097120e-01, -4.64474499e-01,  3.60108495e-01,\n",
       "       -2.44608134e-01, -3.16604018e-01,  2.65343219e-01,  4.15252537e-01,\n",
       "        9.79562700e-02, -3.36832285e-01, -1.09156632e+00,  9.19046283e-01,\n",
       "       -6.56248391e-01, -1.09462905e+00,  5.40579677e-01,  1.22693968e+00,\n",
       "       -2.74230778e-01,  2.10061684e-01, -5.88217303e-02,  5.48057795e-01,\n",
       "       -9.41251993e-01,  1.98476344e-01,  5.73707879e-01,  1.89724594e-01,\n",
       "       -4.50443536e-01, -2.20022053e-01, -6.45220280e-01,  1.12169877e-01,\n",
       "       -1.08045149e+00,  5.37560761e-01, -9.99505043e-01,  1.25978601e+00,\n",
       "       -2.49768347e-01, -9.87837553e-01,  4.55845177e-01, -2.62623340e-01,\n",
       "       -9.96000320e-02,  6.57924056e-01, -1.36561543e-01, -1.37158835e+00,\n",
       "       -2.08121479e-01, -5.68527877e-01, -5.82380295e-01, -1.76664948e-01,\n",
       "       -1.93980962e-01,  1.28594351e+00,  2.08477557e-01, -3.62095743e-01,\n",
       "       -1.81275427e-01,  1.02351177e+00, -8.85766447e-01, -1.96627855e-01,\n",
       "       -6.65324926e-01, -7.11357653e-01, -1.09662890e+00,  3.49659145e-01,\n",
       "        1.33042727e-02,  8.92172903e-02, -7.85065770e-01, -3.11818998e-02,\n",
       "        1.26300895e+00,  3.40840340e-01, -1.41376686e+00, -1.90646634e-01,\n",
       "        2.18005404e-01,  6.43400192e-01, -2.20408872e-01, -2.56208628e-01,\n",
       "        1.87854409e-01, -9.21145558e-01, -5.85692704e-01,  3.60266417e-01,\n",
       "        7.64360011e-01,  6.94747925e-01, -7.04993308e-01, -9.50586647e-02,\n",
       "       -2.38269627e-01, -8.73100400e-01,  5.68871617e-01,  1.50521481e+00,\n",
       "       -5.29649332e-02, -6.50230944e-01,  8.21349800e-01,  1.76067263e-01,\n",
       "        2.05489516e-01,  1.26896870e+00,  4.16222751e-01,  1.43529087e-01,\n",
       "       -5.17946929e-02,  8.08235288e-01, -8.47314075e-02, -6.64657116e-01,\n",
       "       -5.85582495e-01, -7.65548944e-01, -7.09237337e-01,  9.12608266e-01,\n",
       "       -7.30306745e-01, -4.81949925e-01, -5.08098528e-02, -6.54948115e-01,\n",
       "        1.00086784e+00, -2.07537726e-01, -6.53298736e-01, -1.30286947e-01,\n",
       "       -5.00842988e-01,  4.39372540e-01,  2.82242179e-01, -7.66241133e-01,\n",
       "        1.26310372e+00, -5.87007642e-01, -1.83241829e-01, -9.30254102e-01,\n",
       "       -7.76750743e-02, -1.83285207e-01, -6.68159068e-01, -8.72426987e-01,\n",
       "        5.24441242e-01,  5.83728969e-01,  1.05151272e+00, -3.02408002e-02,\n",
       "        8.83328736e-01, -2.10064918e-01, -1.27352738e+00, -5.69162555e-02,\n",
       "       -8.55786920e-01,  9.43840146e-01,  1.02023788e-01, -2.06937045e-02,\n",
       "       -6.99370503e-01, -4.71735030e-01,  4.11729932e-01,  1.06230581e+00,\n",
       "       -2.01458484e-03,  8.17213058e-01,  7.47332454e-01, -2.33824849e-02,\n",
       "       -3.29907201e-02, -1.04702771e-01,  5.72657585e-01, -8.23800921e-01,\n",
       "        4.98406112e-01,  4.24093038e-01, -3.17396581e-01,  5.33152521e-01,\n",
       "        4.95625556e-01, -1.17724907e+00,  1.08985221e+00, -2.36104786e-01,\n",
       "        9.65911090e-01, -6.25830650e-01, -4.37289387e-01, -9.34038401e-01,\n",
       "        1.98110491e-01,  3.27431038e-02,  7.99836069e-02, -5.26362479e-01,\n",
       "        5.63895628e-02,  2.35976309e-01, -4.32745740e-02,  5.38228691e-01,\n",
       "       -6.77872300e-01,  4.28749740e-01, -3.99360925e-01,  1.05014026e+00,\n",
       "        1.56125844e-01,  5.58323383e-01, -5.03997862e-01, -3.40058327e-01,\n",
       "       -4.73451167e-01,  2.81713367e-01, -1.03600359e+00,  7.01016068e-01,\n",
       "       -8.83486092e-01, -2.79625267e-01, -2.12500133e-02, -2.90274285e-02,\n",
       "        6.25522435e-01, -8.90772790e-02, -4.97814327e-01, -5.73320448e-01,\n",
       "       -1.00868917e+00,  6.40315890e-01,  3.77186388e-01,  1.03666985e+00,\n",
       "       -1.09921443e+00, -1.13116801e+00,  2.27402046e-01,  2.33892828e-01,\n",
       "        4.45897371e-01, -7.33166188e-02, -5.57320535e-01,  8.58803928e-01,\n",
       "       -9.08900127e-02, -5.48460007e-01,  2.46513680e-01, -6.61922872e-01,\n",
       "       -4.92304087e-01, -3.74966741e-01,  4.66417432e-01,  8.28938857e-02,\n",
       "        2.26167083e-01, -7.27482438e-02, -4.03000414e-03, -1.12581503e+00,\n",
       "        1.07820675e-01,  3.27313483e-01, -5.59018478e-02, -5.63339412e-01,\n",
       "       -4.99431580e-01,  1.41554534e+00,  2.66852796e-01,  4.17503357e-01,\n",
       "        8.41121078e-01, -3.80053759e-01, -5.27080417e-01, -4.26317632e-01,\n",
       "        6.28315508e-02, -1.83636263e-01, -6.13492072e-01, -1.18278468e+00,\n",
       "        2.52742320e-01,  1.98688507e-01, -8.48563552e-01,  4.99417633e-02,\n",
       "       -6.71149969e-01, -1.17818370e-01,  5.87830126e-01,  2.65023768e-01,\n",
       "       -8.07081938e-01, -6.25676990e-01, -2.52701730e-01,  1.02334440e+00,\n",
       "       -6.38607979e-01,  3.74578647e-02, -2.61471599e-01, -4.34544802e-01,\n",
       "        7.75855720e-01,  1.88937455e-01,  2.43990228e-01,  2.06439123e-02,\n",
       "        1.19325779e-01, -5.04612446e-01,  6.02356315e-01, -6.55143797e-01],\n",
       "      dtype=float32)"
      ]
     },
     "execution_count": 123,
     "metadata": {},
     "output_type": "execute_result"
    }
   ],
   "source": [
    "query_embedding"
   ]
  },
  {
   "cell_type": "code",
   "execution_count": 109,
   "metadata": {},
   "outputs": [
    {
     "data": {
      "text/plain": [
       "(768,)"
      ]
     },
     "execution_count": 109,
     "metadata": {},
     "output_type": "execute_result"
    }
   ],
   "source": [
    "query_embedding.shape"
   ]
  },
  {
   "cell_type": "code",
   "execution_count": 110,
   "metadata": {},
   "outputs": [
    {
     "data": {
      "text/plain": [
       "1"
      ]
     },
     "execution_count": 110,
     "metadata": {},
     "output_type": "execute_result"
    }
   ],
   "source": [
    "query_embedding.ndim"
   ]
  },
  {
   "cell_type": "code",
   "execution_count": 20,
   "metadata": {
    "scrolled": true
   },
   "outputs": [
    {
     "ename": "AttributeError",
     "evalue": "'numpy.ndarray' object has no attribute 'unsqueeze'",
     "output_type": "error",
     "traceback": [
      "\u001b[1;31m---------------------------------------------------------------------------\u001b[0m",
      "\u001b[1;31mAttributeError\u001b[0m                            Traceback (most recent call last)",
      "Cell \u001b[1;32mIn[20], line 2\u001b[0m\n\u001b[0;32m      1\u001b[0m a \u001b[38;5;241m=\u001b[39m query_embedding\n\u001b[1;32m----> 2\u001b[0m a \u001b[38;5;241m=\u001b[39m \u001b[43mquery_embedding\u001b[49m\u001b[38;5;241;43m.\u001b[39;49m\u001b[43munsqueeze\u001b[49m(\u001b[38;5;241m0\u001b[39m)\n",
      "\u001b[1;31mAttributeError\u001b[0m: 'numpy.ndarray' object has no attribute 'unsqueeze'"
     ]
    }
   ],
   "source": [
    "a = query_embedding\n",
    "a = query_embedding.unsqueeze(0)"
   ]
  },
  {
   "cell_type": "code",
   "execution_count": 17,
   "metadata": {},
   "outputs": [
    {
     "data": {
      "text/plain": [
       "(111018, 768)"
      ]
     },
     "execution_count": 17,
     "metadata": {},
     "output_type": "execute_result"
    }
   ],
   "source": [
    "course_embeddings.shape"
   ]
  },
  {
   "cell_type": "code",
   "execution_count": 18,
   "metadata": {},
   "outputs": [
    {
     "data": {
      "text/plain": [
       "2"
      ]
     },
     "execution_count": 18,
     "metadata": {},
     "output_type": "execute_result"
    }
   ],
   "source": [
    "course_embeddings.ndim"
   ]
  },
  {
   "cell_type": "code",
   "execution_count": 39,
   "metadata": {},
   "outputs": [
    {
     "data": {
      "text/plain": [
       "numpy.ndarray"
      ]
     },
     "execution_count": 39,
     "metadata": {},
     "output_type": "execute_result"
    }
   ],
   "source": [
    "type(course_embeddings)"
   ]
  },
  {
   "cell_type": "code",
   "execution_count": 124,
   "metadata": {},
   "outputs": [],
   "source": [
    "# Assuming query_embeddings and course_embeddings are your arrays\n",
    "# query_embeddings shape: (768,)\n",
    "# course_embeddings shape: (111018, 768)\n",
    "\n",
    "# Convert numpy arrays to PyTorch tensors\n",
    "query_tensor = torch.tensor(query_embedding, dtype=torch.float32)\n",
    "course_tensor = torch.tensor(course_embeddings, dtype=torch.float32)\n",
    "\n",
    "# Reshape query tensor to have shape (1, 768)\n",
    "query_tensor = query_tensor.unsqueeze(0)\n",
    "\n",
    "# Compute cosine similarity using PyTorch\n",
    "cos_similarities = torch.nn.functional.cosine_similarity(course_tensor, query_tensor, dim=1)\n",
    "\n",
    "# Now cos_similarities will be a 1D tensor containing cosine similarity values for each course\n",
    "# cos_similarities.shape will be (111018,)\n"
   ]
  },
  {
   "cell_type": "code",
   "execution_count": 125,
   "metadata": {},
   "outputs": [
    {
     "data": {
      "text/plain": [
       "torch.Size([111018])"
      ]
     },
     "execution_count": 125,
     "metadata": {},
     "output_type": "execute_result"
    }
   ],
   "source": [
    "cos_similarities.shape"
   ]
  },
  {
   "cell_type": "code",
   "execution_count": 126,
   "metadata": {},
   "outputs": [
    {
     "name": "stdout",
     "output_type": "stream",
     "text": [
      "Mean value: 0.40887385606765747\n",
      "Median value: 0.41382133960723877\n",
      "Minimum value: -0.0008498262614011765\n",
      "Maximum value: 0.7581834197044373\n"
     ]
    }
   ],
   "source": [
    "# Compute basic statistics\n",
    "mean_value = torch.mean(cos_similarities)\n",
    "median_value = torch.median(cos_similarities)\n",
    "min_value = torch.min(cos_similarities)\n",
    "max_value = torch.max(cos_similarities)\n",
    "\n",
    "# Print or use the computed statistics\n",
    "print(\"Mean value:\", mean_value.item())\n",
    "print(\"Median value:\", median_value.item())\n",
    "print(\"Minimum value:\", min_value.item())\n",
    "print(\"Maximum value:\", max_value.item())"
   ]
  },
  {
   "cell_type": "code",
   "execution_count": 115,
   "metadata": {},
   "outputs": [],
   "source": [
    "top_indices = cos_similarities.argsort(descending=True)"
   ]
  },
  {
   "cell_type": "code",
   "execution_count": 116,
   "metadata": {},
   "outputs": [
    {
     "data": {
      "text/plain": [
       "tensor([81336, 70910,  1544,  ..., 23787, 23306, 21553])"
      ]
     },
     "execution_count": 116,
     "metadata": {},
     "output_type": "execute_result"
    }
   ],
   "source": [
    "top_indices"
   ]
  },
  {
   "cell_type": "code",
   "execution_count": 117,
   "metadata": {},
   "outputs": [
    {
     "data": {
      "text/plain": [
       "tensor(0.7849)"
      ]
     },
     "execution_count": 117,
     "metadata": {},
     "output_type": "execute_result"
    }
   ],
   "source": [
    "cos_similarities[81336]"
   ]
  },
  {
   "cell_type": "code",
   "execution_count": 146,
   "metadata": {},
   "outputs": [
    {
     "data": {
      "text/plain": [
       "(111018,)"
      ]
     },
     "execution_count": 146,
     "metadata": {},
     "output_type": "execute_result"
    }
   ],
   "source": [
    "np.array(cos_similarities).shape"
   ]
  },
  {
   "cell_type": "code",
   "execution_count": 118,
   "metadata": {},
   "outputs": [],
   "source": [
    "m = np.array(cos_similarities)"
   ]
  },
  {
   "cell_type": "code",
   "execution_count": 121,
   "metadata": {},
   "outputs": [
    {
     "data": {
      "text/plain": [
       "0.78488356"
      ]
     },
     "execution_count": 121,
     "metadata": {},
     "output_type": "execute_result"
    }
   ],
   "source": [
    "m.max()"
   ]
  },
  {
   "cell_type": "code",
   "execution_count": 44,
   "metadata": {},
   "outputs": [
    {
     "data": {
      "text/plain": [
       "torch.Size([768])"
      ]
     },
     "execution_count": 44,
     "metadata": {},
     "output_type": "execute_result"
    }
   ],
   "source": [
    "query_tensor.shape"
   ]
  },
  {
   "cell_type": "code",
   "execution_count": 45,
   "metadata": {},
   "outputs": [
    {
     "data": {
      "text/plain": [
       "1"
      ]
     },
     "execution_count": 45,
     "metadata": {},
     "output_type": "execute_result"
    }
   ],
   "source": [
    "query_tensor.ndim"
   ]
  },
  {
   "cell_type": "code",
   "execution_count": 46,
   "metadata": {},
   "outputs": [
    {
     "data": {
      "text/plain": [
       "torch.Size([111018, 768])"
      ]
     },
     "execution_count": 46,
     "metadata": {},
     "output_type": "execute_result"
    }
   ],
   "source": [
    "course_tensor.shape"
   ]
  },
  {
   "cell_type": "code",
   "execution_count": 47,
   "metadata": {},
   "outputs": [
    {
     "data": {
      "text/plain": [
       "2"
      ]
     },
     "execution_count": 47,
     "metadata": {},
     "output_type": "execute_result"
    }
   ],
   "source": [
    "course_tensor.ndim"
   ]
  },
  {
   "cell_type": "code",
   "execution_count": 48,
   "metadata": {},
   "outputs": [],
   "source": [
    "temp_cos = util.pytorch_cos_sim(course_tensor, query_tensor)"
   ]
  },
  {
   "cell_type": "code",
   "execution_count": 49,
   "metadata": {},
   "outputs": [
    {
     "data": {
      "text/plain": [
       "tensor([[0.4451],\n",
       "        [0.3135],\n",
       "        [0.4650],\n",
       "        ...,\n",
       "        [0.4211],\n",
       "        [0.4863],\n",
       "        [0.4699]])"
      ]
     },
     "execution_count": 49,
     "metadata": {},
     "output_type": "execute_result"
    }
   ],
   "source": [
    "temp_cos"
   ]
  },
  {
   "cell_type": "code",
   "execution_count": 50,
   "metadata": {},
   "outputs": [],
   "source": [
    "cos_similarities = torch.nn.functional.cosine_similarity(course_tensor, query_tensor, dim=1)"
   ]
  },
  {
   "cell_type": "code",
   "execution_count": 51,
   "metadata": {},
   "outputs": [
    {
     "data": {
      "text/plain": [
       "torch.Size([111018])"
      ]
     },
     "execution_count": 51,
     "metadata": {},
     "output_type": "execute_result"
    }
   ],
   "source": [
    "cos_similarities.shape"
   ]
  },
  {
   "cell_type": "code",
   "execution_count": 53,
   "metadata": {},
   "outputs": [
    {
     "data": {
      "text/plain": [
       "tensor([0.4451, 0.3135, 0.4650,  ..., 0.4211, 0.4863, 0.4699])"
      ]
     },
     "execution_count": 53,
     "metadata": {},
     "output_type": "execute_result"
    }
   ],
   "source": [
    "cos_similarities"
   ]
  },
  {
   "cell_type": "code",
   "execution_count": 63,
   "metadata": {},
   "outputs": [
    {
     "name": "stdout",
     "output_type": "stream",
     "text": [
      "tensor([0, 2, 1, 3])\n",
      "[0 2 1 3]\n"
     ]
    }
   ],
   "source": [
    "import torch\n",
    "\n",
    "cos_similarities = torch.tensor([0.9, 0.5, 0.7, 0.3])\n",
    "top_indices = cos_similarities.argsort(descending=True)\n",
    "print(top_indices)  # This would print tensor([0, 2, 1, 3])\n",
    "print(np.array(top_indices))\n",
    "a = np.array(top_indices)"
   ]
  },
  {
   "cell_type": "code",
   "execution_count": 66,
   "metadata": {},
   "outputs": [
    {
     "name": "stdout",
     "output_type": "stream",
     "text": [
      "i :  0\n",
      "0\n",
      "i :  2\n",
      "1\n",
      "i :  1\n",
      "2\n",
      "i :  3\n",
      "3\n"
     ]
    }
   ],
   "source": [
    "for i in a:\n",
    "    print(\"i : \", i)   \n",
    "    print(a[i])     "
   ]
  },
  {
   "cell_type": "code",
   "execution_count": 74,
   "metadata": {},
   "outputs": [
    {
     "data": {
      "text/plain": [
       "Unnamed: 0                                                                            0\n",
       "course_id                                                                        655608\n",
       "url                                           /course/productivity-and-time-management/\n",
       "title                                 Productivity and Time Management for the Overw...\n",
       "translated_title                      Productivity and Time Management for the Overw...\n",
       "is_paid                                                                            True\n",
       "instructors                                                            ['Josh Paulsen']\n",
       "translated_instructors                                                 ['Josh Paulsen']\n",
       "image_480x270                         https://img-b.udemycdn.com/course/480x270/6556...\n",
       "published_title                                        productivity-and-time-management\n",
       "headline                              A complete productivity and time management co...\n",
       "translated_headline                   A complete productivity and time management co...\n",
       "num_subscribers                                                                  130315\n",
       "avg_rating                                                                      4.51331\n",
       "avg_rating_recent                                                              4.499236\n",
       "rating                                                                         4.499236\n",
       "num_reviews                                                                       47389\n",
       "num_published_lectures                                                               32\n",
       "num_published_practice_tests                                                          0\n",
       "has_closed_caption                                                                 True\n",
       "created_at                                                         2015-10-30T15:09:33Z\n",
       "instructional_level                                                          All Levels\n",
       "published_at                                                       2015-11-10T22:18:22Z\n",
       "objectives_summary                    ['Take control of their mindset and energy lev...\n",
       "translated_objectives_summary         ['Take control of their mindset and energy lev...\n",
       "is_recently_published                                                             False\n",
       "last_update_date                                                             2017-06-14\n",
       "content_info                                                              2 total hours\n",
       "category                                                           personal_development\n",
       "char_count                                                                        254.0\n",
       "description                           Productivity and Time Management for the Overw...\n",
       "preprocessed_description_stemmed      product time manag overwhelm complet product t...\n",
       "preprocessed_description_unstemmed    productivity time management overwhelmed compl...\n",
       "Name: 0, dtype: object"
      ]
     },
     "execution_count": 74,
     "metadata": {},
     "output_type": "execute_result"
    }
   ],
   "source": [
    "df.iloc[0]"
   ]
  },
  {
   "cell_type": "code",
   "execution_count": null,
   "metadata": {},
   "outputs": [],
   "source": [
    "results = {\"results\":[]}\n",
    "for index in top_indices:\n",
    "    similarity_score = cos_similarities[index]\n",
    "    filtered_course = {}\n",
    "    if similarity_score > similarity_threshold:\n",
    "        filtered_item['item_title'] = df.iloc[0]['title']\n",
    "        filtered_item['item_headline'] =  df.iloc[0]['headline']\n",
    "        filtered_item['item_objectives'] = df.iloc[0]['objectives_summary']\n",
    "        filtered_item['item_score'] = similarity_score\n",
    "        results[\"results\"].append(filtered_item)"
   ]
  },
  {
   "cell_type": "code",
   "execution_count": 55,
   "metadata": {},
   "outputs": [],
   "source": [
    "# Sort documents based on similarity\n",
    "top_documents_indices = cos_similarities.argsort(descending=True)[:10]\n",
    "# Filter documents with similarity score > similarity_threshold\n",
    "results = {\"results\":[]}\n",
    "for index in top_documents_indices:\n",
    "    similarity_score = cos_similarities[0][index]\n",
    "    filtered_item = {}\n",
    "    if similarity_score > similarity_threshold:\n",
    "        filtered_item[\"item_id\"] = self.data.iloc[index]['id']\n",
    "        filtered_item[\"item_name\"] = self.data.iloc[index]['fullname']\n",
    "        filtered_item[\"score\"] = similarity_score\n",
    "        results[\"results\"].append(filtered_item)"
   ]
  },
  {
   "cell_type": "code",
   "execution_count": 56,
   "metadata": {},
   "outputs": [
    {
     "data": {
      "text/plain": [
       "tensor([81336, 70910,  1544,  8953,  1531, 85276, 47200, 47771, 70334, 69997])"
      ]
     },
     "execution_count": 56,
     "metadata": {},
     "output_type": "execute_result"
    }
   ],
   "source": [
    "top_documents_indices"
   ]
  },
  {
   "cell_type": "code",
   "execution_count": 35,
   "metadata": {},
   "outputs": [
    {
     "name": "stdout",
     "output_type": "stream",
     "text": [
      "Mean value: 55508.50390625\n",
      "Median value: 55508.0\n",
      "Minimum value: 0.0\n",
      "Maximum value: 111017.0\n"
     ]
    }
   ],
   "source": [
    "# Compute basic statistics\n",
    "mean_value = torch.mean(sorted_indices.float())\n",
    "median_value = torch.median(sorted_indices.float())\n",
    "min_value = torch.min(sorted_indices.float())\n",
    "max_value = torch.max(sorted_indices.float())\n",
    "\n",
    "# Print or use the computed statistics\n",
    "print(\"Mean value:\", mean_value.item())\n",
    "print(\"Median value:\", median_value.item())\n",
    "print(\"Minimum value:\", min_value.item())\n",
    "print(\"Maximum value:\", max_value.item())"
   ]
  },
  {
   "cell_type": "code",
   "execution_count": 37,
   "metadata": {},
   "outputs": [
    {
     "data": {
      "text/plain": [
       "torch.Tensor"
      ]
     },
     "execution_count": 37,
     "metadata": {},
     "output_type": "execute_result"
    }
   ],
   "source": [
    "type(cos_similarities)\n"
   ]
  },
  {
   "cell_type": "code",
   "execution_count": 38,
   "metadata": {},
   "outputs": [
    {
     "name": "stdout",
     "output_type": "stream",
     "text": [
      "Mean value: 0.414038747549057\n",
      "Median value: 0.42097917199134827\n",
      "Minimum value: -0.0338449701666832\n",
      "Maximum value: 0.7848835587501526\n"
     ]
    }
   ],
   "source": [
    "# Compute basic statistics\n",
    "mean_value = torch.mean(cos_similarities)\n",
    "median_value = torch.median(cos_similarities)\n",
    "min_value = torch.min(cos_similarities)\n",
    "max_value = torch.max(cos_similarities)\n",
    "\n",
    "# Print or use the computed statistics\n",
    "print(\"Mean value:\", mean_value.item())\n",
    "print(\"Median value:\", median_value.item())\n",
    "print(\"Minimum value:\", min_value.item())\n",
    "print(\"Maximum value:\", max_value.item())"
   ]
  },
  {
   "cell_type": "code",
   "execution_count": null,
   "metadata": {},
   "outputs": [],
   "source": [
    "# # Check for duplicate values in a specific column\n",
    "# duplicate_values_in_column = df[df['column_name'].duplicated()]\n",
    "\n",
    "# # Check for duplicate values in multiple columns\n",
    "# duplicate_values_in_multiple_columns = df[df.duplicated(subset=['column1', 'column2'])]"
   ]
  },
  {
   "cell_type": "code",
   "execution_count": 89,
   "metadata": {},
   "outputs": [
    {
     "data": {
      "text/html": [
       "<div>\n",
       "<style scoped>\n",
       "    .dataframe tbody tr th:only-of-type {\n",
       "        vertical-align: middle;\n",
       "    }\n",
       "\n",
       "    .dataframe tbody tr th {\n",
       "        vertical-align: top;\n",
       "    }\n",
       "\n",
       "    .dataframe thead th {\n",
       "        text-align: right;\n",
       "    }\n",
       "</style>\n",
       "<table border=\"1\" class=\"dataframe\">\n",
       "  <thead>\n",
       "    <tr style=\"text-align: right;\">\n",
       "      <th></th>\n",
       "      <th>Unnamed: 0</th>\n",
       "      <th>course_id</th>\n",
       "      <th>url</th>\n",
       "      <th>title</th>\n",
       "      <th>translated_title</th>\n",
       "      <th>is_paid</th>\n",
       "      <th>instructors</th>\n",
       "      <th>translated_instructors</th>\n",
       "      <th>image_480x270</th>\n",
       "      <th>published_title</th>\n",
       "      <th>...</th>\n",
       "      <th>objectives_summary</th>\n",
       "      <th>translated_objectives_summary</th>\n",
       "      <th>is_recently_published</th>\n",
       "      <th>last_update_date</th>\n",
       "      <th>content_info</th>\n",
       "      <th>category</th>\n",
       "      <th>char_count</th>\n",
       "      <th>description</th>\n",
       "      <th>preprocessed_description_stemmed</th>\n",
       "      <th>preprocessed_description_unstemmed</th>\n",
       "    </tr>\n",
       "  </thead>\n",
       "  <tbody>\n",
       "    <tr>\n",
       "      <th>2581</th>\n",
       "      <td>2581</td>\n",
       "      <td>674718</td>\n",
       "      <td>/course/communication-skills-for-beginners/</td>\n",
       "      <td>Communication Skills for Beginners</td>\n",
       "      <td>Communication Skills for Beginners</td>\n",
       "      <td>True</td>\n",
       "      <td>['Mayur Bardolia']</td>\n",
       "      <td>['Mayur Bardolia']</td>\n",
       "      <td>https://img-c.udemycdn.com/course/480x270/6747...</td>\n",
       "      <td>communication-skills-for-beginners</td>\n",
       "      <td>...</td>\n",
       "      <td>['Know what is communication and what is purpo...</td>\n",
       "      <td>['Know what is communication and what is purpo...</td>\n",
       "      <td>False</td>\n",
       "      <td>2015-11-24</td>\n",
       "      <td>4 total hours</td>\n",
       "      <td>personal_development</td>\n",
       "      <td>295.0</td>\n",
       "      <td>Communication Skills for Beginners Everything ...</td>\n",
       "      <td>commun skill beginn everyth want know exactli ...</td>\n",
       "      <td>communication skills beginners everything want...</td>\n",
       "    </tr>\n",
       "    <tr>\n",
       "      <th>2990</th>\n",
       "      <td>2990</td>\n",
       "      <td>1718908</td>\n",
       "      <td>/course/kundalini-awakening/</td>\n",
       "      <td>Kundalini Awakening</td>\n",
       "      <td>Kundalini Awakening</td>\n",
       "      <td>True</td>\n",
       "      <td>['Erik Smith']</td>\n",
       "      <td>['Erik Smith']</td>\n",
       "      <td>https://img-c.udemycdn.com/course/480x270/1718...</td>\n",
       "      <td>kundalini-awakening</td>\n",
       "      <td>...</td>\n",
       "      <td>['Be able to awaken the Kundalini inside of th...</td>\n",
       "      <td>['Be able to awaken the Kundalini inside of th...</td>\n",
       "      <td>False</td>\n",
       "      <td>2018-07-03</td>\n",
       "      <td>39 total mins</td>\n",
       "      <td>personal_development</td>\n",
       "      <td>51.0</td>\n",
       "      <td>Kundalini Awakening How To Unleash The Powerfu...</td>\n",
       "      <td>kundalini awaken unleash power energi insid tr...</td>\n",
       "      <td>kundalini awakening unleash powerful energy in...</td>\n",
       "    </tr>\n",
       "    <tr>\n",
       "      <th>3256</th>\n",
       "      <td>3256</td>\n",
       "      <td>1188252</td>\n",
       "      <td>/course/anger-management-v/</td>\n",
       "      <td>Anger Management</td>\n",
       "      <td>Anger Management</td>\n",
       "      <td>True</td>\n",
       "      <td>['TBAE Team Building and Events']</td>\n",
       "      <td>['TBAE Team Building and Events']</td>\n",
       "      <td>https://img-c.udemycdn.com/course/480x270/1188...</td>\n",
       "      <td>anger-management-v</td>\n",
       "      <td>...</td>\n",
       "      <td>['Understand the Anger Emotion', 'Know Ways of...</td>\n",
       "      <td>['Understand the Anger Emotion', 'Know Ways of...</td>\n",
       "      <td>False</td>\n",
       "      <td>2017-05-17</td>\n",
       "      <td>1 total hour</td>\n",
       "      <td>personal_development</td>\n",
       "      <td>104.0</td>\n",
       "      <td>Anger Management Everyone experiences Anger. I...</td>\n",
       "      <td>anger manag everyon experi anger deal matter u...</td>\n",
       "      <td>anger management everyone experiences anger de...</td>\n",
       "    </tr>\n",
       "    <tr>\n",
       "      <th>3720</th>\n",
       "      <td>3720</td>\n",
       "      <td>2640114</td>\n",
       "      <td>/course/agile-leadership-v/</td>\n",
       "      <td>Agile Leadership</td>\n",
       "      <td>Agile Leadership</td>\n",
       "      <td>True</td>\n",
       "      <td>['Kaliym Islam']</td>\n",
       "      <td>['Kaliym Islam']</td>\n",
       "      <td>https://img-c.udemycdn.com/course/480x270/2640...</td>\n",
       "      <td>agile-leadership-v</td>\n",
       "      <td>...</td>\n",
       "      <td>['How to assess your current level of leadersh...</td>\n",
       "      <td>['How to assess your current level of leadersh...</td>\n",
       "      <td>False</td>\n",
       "      <td>2020-03-19</td>\n",
       "      <td>1 total hour</td>\n",
       "      <td>personal_development</td>\n",
       "      <td>138.0</td>\n",
       "      <td>Agile Leadership Four Values to Help You Lead ...</td>\n",
       "      <td>agil leadership four valu help lead environ ch...</td>\n",
       "      <td>agile leadership four values help lead environ...</td>\n",
       "    </tr>\n",
       "    <tr>\n",
       "      <th>4378</th>\n",
       "      <td>4379</td>\n",
       "      <td>2245476</td>\n",
       "      <td>/course/life-purpose-discovery/</td>\n",
       "      <td>Discover Your Life Purpose</td>\n",
       "      <td>Discover Your Life Purpose</td>\n",
       "      <td>True</td>\n",
       "      <td>['Ali Abidin']</td>\n",
       "      <td>['Ali abidin']</td>\n",
       "      <td>https://img-b.udemycdn.com/course/480x270/2245...</td>\n",
       "      <td>life-purpose-discovery</td>\n",
       "      <td>...</td>\n",
       "      <td>['Explore your 3 clues to discover your life p...</td>\n",
       "      <td>['Explore your 3 clues to discover your life p...</td>\n",
       "      <td>False</td>\n",
       "      <td>2019-05-13</td>\n",
       "      <td>2.5 total hours</td>\n",
       "      <td>personal_development</td>\n",
       "      <td>194.0</td>\n",
       "      <td>Discover Your Life Purpose Practical Steps In ...</td>\n",
       "      <td>discov life purpos practic step discov life pu...</td>\n",
       "      <td>discover life purpose practical steps discover...</td>\n",
       "    </tr>\n",
       "    <tr>\n",
       "      <th>...</th>\n",
       "      <td>...</td>\n",
       "      <td>...</td>\n",
       "      <td>...</td>\n",
       "      <td>...</td>\n",
       "      <td>...</td>\n",
       "      <td>...</td>\n",
       "      <td>...</td>\n",
       "      <td>...</td>\n",
       "      <td>...</td>\n",
       "      <td>...</td>\n",
       "      <td>...</td>\n",
       "      <td>...</td>\n",
       "      <td>...</td>\n",
       "      <td>...</td>\n",
       "      <td>...</td>\n",
       "      <td>...</td>\n",
       "      <td>...</td>\n",
       "      <td>...</td>\n",
       "      <td>...</td>\n",
       "      <td>...</td>\n",
       "      <td>...</td>\n",
       "    </tr>\n",
       "    <tr>\n",
       "      <th>110289</th>\n",
       "      <td>110318</td>\n",
       "      <td>3268804</td>\n",
       "      <td>/course/affinityphoto-fur-einsteiger/</td>\n",
       "      <td>Affinity Photo für Einsteiger</td>\n",
       "      <td>Affinity photo for beginners</td>\n",
       "      <td>True</td>\n",
       "      <td>['Nicola Lederer']</td>\n",
       "      <td>['Nicola Leader']</td>\n",
       "      <td>https://img-c.udemycdn.com/course/480x270/3268...</td>\n",
       "      <td>affinityphoto-fur-einsteiger</td>\n",
       "      <td>...</td>\n",
       "      <td>['Die Grundlagen der Fotobearbeitung in Affini...</td>\n",
       "      <td>['The basics of photo editing in affinity phot...</td>\n",
       "      <td>False</td>\n",
       "      <td>2020-06-25</td>\n",
       "      <td>2 total hours</td>\n",
       "      <td>photography</td>\n",
       "      <td>NaN</td>\n",
       "      <td>Affinity photo for beginners Start now with im...</td>\n",
       "      <td>affin photo beginn start imag edit basic photo...</td>\n",
       "      <td>affinity photo beginners start image editing b...</td>\n",
       "    </tr>\n",
       "    <tr>\n",
       "      <th>110600</th>\n",
       "      <td>110629</td>\n",
       "      <td>3736602</td>\n",
       "      <td>/course/after-effects-desde-cero-e/</td>\n",
       "      <td>After Effects desde Cero</td>\n",
       "      <td>After Effects from scratch</td>\n",
       "      <td>True</td>\n",
       "      <td>['Francisco Cerda Cruz']</td>\n",
       "      <td>['Francisco Cerda Cruz']</td>\n",
       "      <td>https://img-c.udemycdn.com/course/480x270/3736...</td>\n",
       "      <td>after-effects-desde-cero-e</td>\n",
       "      <td>...</td>\n",
       "      <td>['Los Recursos basicos para manipular after ef...</td>\n",
       "      <td>['Basic resources for manipulating After Effec...</td>\n",
       "      <td>False</td>\n",
       "      <td>2021-08-17</td>\n",
       "      <td>5 total hours</td>\n",
       "      <td>photography</td>\n",
       "      <td>NaN</td>\n",
       "      <td>After Effects from scratch After Basic Effects...</td>\n",
       "      <td>effect scratch basic effect basic resourc mani...</td>\n",
       "      <td>effects scratch basic effects basic resources ...</td>\n",
       "    </tr>\n",
       "    <tr>\n",
       "      <th>110759</th>\n",
       "      <td>110788</td>\n",
       "      <td>3639350</td>\n",
       "      <td>/course/adobe-premiere-pro-cc-essentials-train...</td>\n",
       "      <td>Adobe Premiere Pro CC – Essentials Training Co...</td>\n",
       "      <td>Adobe Premiere Pro CC – Essentials Training Co...</td>\n",
       "      <td>True</td>\n",
       "      <td>['Noman Shahid']</td>\n",
       "      <td>['Noman Shahid']</td>\n",
       "      <td>https://img-c.udemycdn.com/course/480x270/3639...</td>\n",
       "      <td>adobe-premiere-pro-cc-essentials-training-cour...</td>\n",
       "      <td>...</td>\n",
       "      <td>['How to add import video your Premiere Pro Pr...</td>\n",
       "      <td>['How to add import video your Premiere Pro Pr...</td>\n",
       "      <td>False</td>\n",
       "      <td>2020-11-16</td>\n",
       "      <td>1 total hour</td>\n",
       "      <td>photography</td>\n",
       "      <td>NaN</td>\n",
       "      <td>Adobe Premiere Pro CC – Essentials Training Co...</td>\n",
       "      <td>adob premier pro cc essenti train cours start ...</td>\n",
       "      <td>adobe premiere pro cc essentials training cour...</td>\n",
       "    </tr>\n",
       "    <tr>\n",
       "      <th>110785</th>\n",
       "      <td>110814</td>\n",
       "      <td>4439592</td>\n",
       "      <td>/course/formation-videoscribe-juristudes/</td>\n",
       "      <td>Formation videoscribe</td>\n",
       "      <td>Formation videoscribe</td>\n",
       "      <td>True</td>\n",
       "      <td>['Franklin Lombi Mufuri']</td>\n",
       "      <td>[''frilnklin lodget</td>\n",
       "      <td>https://img-c.udemycdn.com/course/480x270/4439...</td>\n",
       "      <td>formation-videoscribe-juristudes</td>\n",
       "      <td>...</td>\n",
       "      <td>['Apprendre à utiliser le logiciel Videoscribe...</td>\n",
       "      <td>['Learn to use Videoscibe software to create s...</td>\n",
       "      <td>True</td>\n",
       "      <td>2022-02-13</td>\n",
       "      <td>2 total hours</td>\n",
       "      <td>photography</td>\n",
       "      <td>NaN</td>\n",
       "      <td>Formation videoscribe The complete guide to cr...</td>\n",
       "      <td>format videoscrib complet guid creat anim lear...</td>\n",
       "      <td>formation videoscribe complete guide create an...</td>\n",
       "    </tr>\n",
       "    <tr>\n",
       "      <th>110854</th>\n",
       "      <td>110883</td>\n",
       "      <td>4530994</td>\n",
       "      <td>/course/wondershare-filmora-learn-complete-vid...</td>\n",
       "      <td>Wondershare Filmora X and 11: Learn Complete V...</td>\n",
       "      <td>Wondershare Filmora X and 11: Learn Complete V...</td>\n",
       "      <td>True</td>\n",
       "      <td>['Pradeep Mamgain']</td>\n",
       "      <td>['Pradeep Mamgain']</td>\n",
       "      <td>https://img-c.udemycdn.com/course/480x270/4530...</td>\n",
       "      <td>wondershare-filmora-learn-complete-video-editi...</td>\n",
       "      <td>...</td>\n",
       "      <td>['Understand linear editing workflow', 'Edit a...</td>\n",
       "      <td>['Understand linear editing workflow', 'Edit a...</td>\n",
       "      <td>True</td>\n",
       "      <td>2022-02-20</td>\n",
       "      <td>11.5 total hours</td>\n",
       "      <td>photography</td>\n",
       "      <td>NaN</td>\n",
       "      <td>Wondershare Filmora X and 11: Learn Complete V...</td>\n",
       "      <td>wondershar filmora x learn complet video edit ...</td>\n",
       "      <td>wondershare filmora x learn complete video edi...</td>\n",
       "    </tr>\n",
       "  </tbody>\n",
       "</table>\n",
       "<p>469 rows × 33 columns</p>\n",
       "</div>"
      ],
      "text/plain": [
       "        Unnamed: 0  course_id  \\\n",
       "2581          2581     674718   \n",
       "2990          2990    1718908   \n",
       "3256          3256    1188252   \n",
       "3720          3720    2640114   \n",
       "4378          4379    2245476   \n",
       "...            ...        ...   \n",
       "110289      110318    3268804   \n",
       "110600      110629    3736602   \n",
       "110759      110788    3639350   \n",
       "110785      110814    4439592   \n",
       "110854      110883    4530994   \n",
       "\n",
       "                                                      url  \\\n",
       "2581          /course/communication-skills-for-beginners/   \n",
       "2990                         /course/kundalini-awakening/   \n",
       "3256                          /course/anger-management-v/   \n",
       "3720                          /course/agile-leadership-v/   \n",
       "4378                      /course/life-purpose-discovery/   \n",
       "...                                                   ...   \n",
       "110289              /course/affinityphoto-fur-einsteiger/   \n",
       "110600                /course/after-effects-desde-cero-e/   \n",
       "110759  /course/adobe-premiere-pro-cc-essentials-train...   \n",
       "110785          /course/formation-videoscribe-juristudes/   \n",
       "110854  /course/wondershare-filmora-learn-complete-vid...   \n",
       "\n",
       "                                                    title  \\\n",
       "2581                   Communication Skills for Beginners   \n",
       "2990                                  Kundalini Awakening   \n",
       "3256                                     Anger Management   \n",
       "3720                                     Agile Leadership   \n",
       "4378                           Discover Your Life Purpose   \n",
       "...                                                   ...   \n",
       "110289                      Affinity Photo für Einsteiger   \n",
       "110600                           After Effects desde Cero   \n",
       "110759  Adobe Premiere Pro CC – Essentials Training Co...   \n",
       "110785                              Formation videoscribe   \n",
       "110854  Wondershare Filmora X and 11: Learn Complete V...   \n",
       "\n",
       "                                         translated_title  is_paid  \\\n",
       "2581                   Communication Skills for Beginners     True   \n",
       "2990                                  Kundalini Awakening     True   \n",
       "3256                                     Anger Management     True   \n",
       "3720                                     Agile Leadership     True   \n",
       "4378                           Discover Your Life Purpose     True   \n",
       "...                                                   ...      ...   \n",
       "110289                       Affinity photo for beginners     True   \n",
       "110600                         After Effects from scratch     True   \n",
       "110759  Adobe Premiere Pro CC – Essentials Training Co...     True   \n",
       "110785                              Formation videoscribe     True   \n",
       "110854  Wondershare Filmora X and 11: Learn Complete V...     True   \n",
       "\n",
       "                              instructors             translated_instructors  \\\n",
       "2581                   ['Mayur Bardolia']                 ['Mayur Bardolia']   \n",
       "2990                       ['Erik Smith']                     ['Erik Smith']   \n",
       "3256    ['TBAE Team Building and Events']  ['TBAE Team Building and Events']   \n",
       "3720                     ['Kaliym Islam']                   ['Kaliym Islam']   \n",
       "4378                       ['Ali Abidin']                     ['Ali abidin']   \n",
       "...                                   ...                                ...   \n",
       "110289                 ['Nicola Lederer']                  ['Nicola Leader']   \n",
       "110600           ['Francisco Cerda Cruz']           ['Francisco Cerda Cruz']   \n",
       "110759                   ['Noman Shahid']                   ['Noman Shahid']   \n",
       "110785          ['Franklin Lombi Mufuri']                [''frilnklin lodget   \n",
       "110854                ['Pradeep Mamgain']                ['Pradeep Mamgain']   \n",
       "\n",
       "                                            image_480x270  \\\n",
       "2581    https://img-c.udemycdn.com/course/480x270/6747...   \n",
       "2990    https://img-c.udemycdn.com/course/480x270/1718...   \n",
       "3256    https://img-c.udemycdn.com/course/480x270/1188...   \n",
       "3720    https://img-c.udemycdn.com/course/480x270/2640...   \n",
       "4378    https://img-b.udemycdn.com/course/480x270/2245...   \n",
       "...                                                   ...   \n",
       "110289  https://img-c.udemycdn.com/course/480x270/3268...   \n",
       "110600  https://img-c.udemycdn.com/course/480x270/3736...   \n",
       "110759  https://img-c.udemycdn.com/course/480x270/3639...   \n",
       "110785  https://img-c.udemycdn.com/course/480x270/4439...   \n",
       "110854  https://img-c.udemycdn.com/course/480x270/4530...   \n",
       "\n",
       "                                          published_title  ...  \\\n",
       "2581                   communication-skills-for-beginners  ...   \n",
       "2990                                  kundalini-awakening  ...   \n",
       "3256                                   anger-management-v  ...   \n",
       "3720                                   agile-leadership-v  ...   \n",
       "4378                               life-purpose-discovery  ...   \n",
       "...                                                   ...  ...   \n",
       "110289                       affinityphoto-fur-einsteiger  ...   \n",
       "110600                         after-effects-desde-cero-e  ...   \n",
       "110759  adobe-premiere-pro-cc-essentials-training-cour...  ...   \n",
       "110785                   formation-videoscribe-juristudes  ...   \n",
       "110854  wondershare-filmora-learn-complete-video-editi...  ...   \n",
       "\n",
       "                                       objectives_summary  \\\n",
       "2581    ['Know what is communication and what is purpo...   \n",
       "2990    ['Be able to awaken the Kundalini inside of th...   \n",
       "3256    ['Understand the Anger Emotion', 'Know Ways of...   \n",
       "3720    ['How to assess your current level of leadersh...   \n",
       "4378    ['Explore your 3 clues to discover your life p...   \n",
       "...                                                   ...   \n",
       "110289  ['Die Grundlagen der Fotobearbeitung in Affini...   \n",
       "110600  ['Los Recursos basicos para manipular after ef...   \n",
       "110759  ['How to add import video your Premiere Pro Pr...   \n",
       "110785  ['Apprendre à utiliser le logiciel Videoscribe...   \n",
       "110854  ['Understand linear editing workflow', 'Edit a...   \n",
       "\n",
       "                            translated_objectives_summary  \\\n",
       "2581    ['Know what is communication and what is purpo...   \n",
       "2990    ['Be able to awaken the Kundalini inside of th...   \n",
       "3256    ['Understand the Anger Emotion', 'Know Ways of...   \n",
       "3720    ['How to assess your current level of leadersh...   \n",
       "4378    ['Explore your 3 clues to discover your life p...   \n",
       "...                                                   ...   \n",
       "110289  ['The basics of photo editing in affinity phot...   \n",
       "110600  ['Basic resources for manipulating After Effec...   \n",
       "110759  ['How to add import video your Premiere Pro Pr...   \n",
       "110785  ['Learn to use Videoscibe software to create s...   \n",
       "110854  ['Understand linear editing workflow', 'Edit a...   \n",
       "\n",
       "        is_recently_published  last_update_date      content_info  \\\n",
       "2581                    False        2015-11-24     4 total hours   \n",
       "2990                    False        2018-07-03     39 total mins   \n",
       "3256                    False        2017-05-17      1 total hour   \n",
       "3720                    False        2020-03-19      1 total hour   \n",
       "4378                    False        2019-05-13   2.5 total hours   \n",
       "...                       ...               ...               ...   \n",
       "110289                  False        2020-06-25     2 total hours   \n",
       "110600                  False        2021-08-17     5 total hours   \n",
       "110759                  False        2020-11-16      1 total hour   \n",
       "110785                   True        2022-02-13     2 total hours   \n",
       "110854                   True        2022-02-20  11.5 total hours   \n",
       "\n",
       "                    category  char_count  \\\n",
       "2581    personal_development       295.0   \n",
       "2990    personal_development        51.0   \n",
       "3256    personal_development       104.0   \n",
       "3720    personal_development       138.0   \n",
       "4378    personal_development       194.0   \n",
       "...                      ...         ...   \n",
       "110289           photography         NaN   \n",
       "110600           photography         NaN   \n",
       "110759           photography         NaN   \n",
       "110785           photography         NaN   \n",
       "110854           photography         NaN   \n",
       "\n",
       "                                              description  \\\n",
       "2581    Communication Skills for Beginners Everything ...   \n",
       "2990    Kundalini Awakening How To Unleash The Powerfu...   \n",
       "3256    Anger Management Everyone experiences Anger. I...   \n",
       "3720    Agile Leadership Four Values to Help You Lead ...   \n",
       "4378    Discover Your Life Purpose Practical Steps In ...   \n",
       "...                                                   ...   \n",
       "110289  Affinity photo for beginners Start now with im...   \n",
       "110600  After Effects from scratch After Basic Effects...   \n",
       "110759  Adobe Premiere Pro CC – Essentials Training Co...   \n",
       "110785  Formation videoscribe The complete guide to cr...   \n",
       "110854  Wondershare Filmora X and 11: Learn Complete V...   \n",
       "\n",
       "                         preprocessed_description_stemmed  \\\n",
       "2581    commun skill beginn everyth want know exactli ...   \n",
       "2990    kundalini awaken unleash power energi insid tr...   \n",
       "3256    anger manag everyon experi anger deal matter u...   \n",
       "3720    agil leadership four valu help lead environ ch...   \n",
       "4378    discov life purpos practic step discov life pu...   \n",
       "...                                                   ...   \n",
       "110289  affin photo beginn start imag edit basic photo...   \n",
       "110600  effect scratch basic effect basic resourc mani...   \n",
       "110759  adob premier pro cc essenti train cours start ...   \n",
       "110785  format videoscrib complet guid creat anim lear...   \n",
       "110854  wondershar filmora x learn complet video edit ...   \n",
       "\n",
       "                       preprocessed_description_unstemmed  \n",
       "2581    communication skills beginners everything want...  \n",
       "2990    kundalini awakening unleash powerful energy in...  \n",
       "3256    anger management everyone experiences anger de...  \n",
       "3720    agile leadership four values help lead environ...  \n",
       "4378    discover life purpose practical steps discover...  \n",
       "...                                                   ...  \n",
       "110289  affinity photo beginners start image editing b...  \n",
       "110600  effects scratch basic effects basic resources ...  \n",
       "110759  adobe premiere pro cc essentials training cour...  \n",
       "110785  formation videoscribe complete guide create an...  \n",
       "110854  wondershare filmora x learn complete video edi...  \n",
       "\n",
       "[469 rows x 33 columns]"
      ]
     },
     "execution_count": 89,
     "metadata": {},
     "output_type": "execute_result"
    }
   ],
   "source": [
    "duplicate_values_in_column = df[df['title'].duplicated()]\n",
    "duplicate_values_in_column"
   ]
  },
  {
   "cell_type": "code",
   "execution_count": 92,
   "metadata": {},
   "outputs": [
    {
     "data": {
      "text/html": [
       "<div>\n",
       "<style scoped>\n",
       "    .dataframe tbody tr th:only-of-type {\n",
       "        vertical-align: middle;\n",
       "    }\n",
       "\n",
       "    .dataframe tbody tr th {\n",
       "        vertical-align: top;\n",
       "    }\n",
       "\n",
       "    .dataframe thead th {\n",
       "        text-align: right;\n",
       "    }\n",
       "</style>\n",
       "<table border=\"1\" class=\"dataframe\">\n",
       "  <thead>\n",
       "    <tr style=\"text-align: right;\">\n",
       "      <th></th>\n",
       "      <th>Unnamed: 0</th>\n",
       "      <th>course_id</th>\n",
       "      <th>url</th>\n",
       "      <th>title</th>\n",
       "      <th>translated_title</th>\n",
       "      <th>is_paid</th>\n",
       "      <th>instructors</th>\n",
       "      <th>translated_instructors</th>\n",
       "      <th>image_480x270</th>\n",
       "      <th>published_title</th>\n",
       "      <th>...</th>\n",
       "      <th>objectives_summary</th>\n",
       "      <th>translated_objectives_summary</th>\n",
       "      <th>is_recently_published</th>\n",
       "      <th>last_update_date</th>\n",
       "      <th>content_info</th>\n",
       "      <th>category</th>\n",
       "      <th>char_count</th>\n",
       "      <th>description</th>\n",
       "      <th>preprocessed_description_stemmed</th>\n",
       "      <th>preprocessed_description_unstemmed</th>\n",
       "    </tr>\n",
       "  </thead>\n",
       "  <tbody>\n",
       "    <tr>\n",
       "      <th>607</th>\n",
       "      <td>607</td>\n",
       "      <td>1508306</td>\n",
       "      <td>/course/developing-the-communication-skills/</td>\n",
       "      <td>Communication Skills for Beginners</td>\n",
       "      <td>Communication Skills for Beginners</td>\n",
       "      <td>True</td>\n",
       "      <td>['Ganesha Pandian N']</td>\n",
       "      <td>['Ganesha Pandian n']</td>\n",
       "      <td>https://img-b.udemycdn.com/course/480x270/1508...</td>\n",
       "      <td>developing-the-communication-skills</td>\n",
       "      <td>...</td>\n",
       "      <td>['learn new techniques to develop your communi...</td>\n",
       "      <td>['learn new techniques to develop your communi...</td>\n",
       "      <td>False</td>\n",
       "      <td>2019-09-24</td>\n",
       "      <td>2 total hours</td>\n",
       "      <td>personal_development</td>\n",
       "      <td>129.0</td>\n",
       "      <td>Communication Skills for Beginners Basic tips ...</td>\n",
       "      <td>commun skill beginn basic tip techniqu develop...</td>\n",
       "      <td>communication skills beginners basic tips tech...</td>\n",
       "    </tr>\n",
       "    <tr>\n",
       "      <th>2581</th>\n",
       "      <td>2581</td>\n",
       "      <td>674718</td>\n",
       "      <td>/course/communication-skills-for-beginners/</td>\n",
       "      <td>Communication Skills for Beginners</td>\n",
       "      <td>Communication Skills for Beginners</td>\n",
       "      <td>True</td>\n",
       "      <td>['Mayur Bardolia']</td>\n",
       "      <td>['Mayur Bardolia']</td>\n",
       "      <td>https://img-c.udemycdn.com/course/480x270/6747...</td>\n",
       "      <td>communication-skills-for-beginners</td>\n",
       "      <td>...</td>\n",
       "      <td>['Know what is communication and what is purpo...</td>\n",
       "      <td>['Know what is communication and what is purpo...</td>\n",
       "      <td>False</td>\n",
       "      <td>2015-11-24</td>\n",
       "      <td>4 total hours</td>\n",
       "      <td>personal_development</td>\n",
       "      <td>295.0</td>\n",
       "      <td>Communication Skills for Beginners Everything ...</td>\n",
       "      <td>commun skill beginn everyth want know exactli ...</td>\n",
       "      <td>communication skills beginners everything want...</td>\n",
       "    </tr>\n",
       "    <tr>\n",
       "      <th>63521</th>\n",
       "      <td>63532</td>\n",
       "      <td>1551970</td>\n",
       "      <td>/course/communication-skills-for-beginners-d/</td>\n",
       "      <td>Communication Skills for Beginners</td>\n",
       "      <td>Communication Skills for Beginners</td>\n",
       "      <td>True</td>\n",
       "      <td>['TJ Walker', 'Media Training Worldwide Digital']</td>\n",
       "      <td>['TJ Walker', 'Media Training Worldwide Digital']</td>\n",
       "      <td>https://img-b.udemycdn.com/course/480x270/1551...</td>\n",
       "      <td>communication-skills-for-beginners-d</td>\n",
       "      <td>...</td>\n",
       "      <td>['Communicate effectively to individuals and s...</td>\n",
       "      <td>['Communicate effectively to individuals and s...</td>\n",
       "      <td>False</td>\n",
       "      <td>2022-01-25</td>\n",
       "      <td>31 total hours</td>\n",
       "      <td>business</td>\n",
       "      <td>NaN</td>\n",
       "      <td>Communication Skills for Beginners Start Build...</td>\n",
       "      <td>commun skill beginn start build commun skill c...</td>\n",
       "      <td>communication skills beginners start building ...</td>\n",
       "    </tr>\n",
       "  </tbody>\n",
       "</table>\n",
       "<p>3 rows × 33 columns</p>\n",
       "</div>"
      ],
      "text/plain": [
       "       Unnamed: 0  course_id                                            url  \\\n",
       "607           607    1508306   /course/developing-the-communication-skills/   \n",
       "2581         2581     674718    /course/communication-skills-for-beginners/   \n",
       "63521       63532    1551970  /course/communication-skills-for-beginners-d/   \n",
       "\n",
       "                                    title                    translated_title  \\\n",
       "607    Communication Skills for Beginners  Communication Skills for Beginners   \n",
       "2581   Communication Skills for Beginners  Communication Skills for Beginners   \n",
       "63521  Communication Skills for Beginners  Communication Skills for Beginners   \n",
       "\n",
       "       is_paid                                        instructors  \\\n",
       "607       True                              ['Ganesha Pandian N']   \n",
       "2581      True                                 ['Mayur Bardolia']   \n",
       "63521     True  ['TJ Walker', 'Media Training Worldwide Digital']   \n",
       "\n",
       "                                  translated_instructors  \\\n",
       "607                                ['Ganesha Pandian n']   \n",
       "2581                                  ['Mayur Bardolia']   \n",
       "63521  ['TJ Walker', 'Media Training Worldwide Digital']   \n",
       "\n",
       "                                           image_480x270  \\\n",
       "607    https://img-b.udemycdn.com/course/480x270/1508...   \n",
       "2581   https://img-c.udemycdn.com/course/480x270/6747...   \n",
       "63521  https://img-b.udemycdn.com/course/480x270/1551...   \n",
       "\n",
       "                            published_title  ...  \\\n",
       "607     developing-the-communication-skills  ...   \n",
       "2581     communication-skills-for-beginners  ...   \n",
       "63521  communication-skills-for-beginners-d  ...   \n",
       "\n",
       "                                      objectives_summary  \\\n",
       "607    ['learn new techniques to develop your communi...   \n",
       "2581   ['Know what is communication and what is purpo...   \n",
       "63521  ['Communicate effectively to individuals and s...   \n",
       "\n",
       "                           translated_objectives_summary  \\\n",
       "607    ['learn new techniques to develop your communi...   \n",
       "2581   ['Know what is communication and what is purpo...   \n",
       "63521  ['Communicate effectively to individuals and s...   \n",
       "\n",
       "       is_recently_published  last_update_date    content_info  \\\n",
       "607                    False        2019-09-24   2 total hours   \n",
       "2581                   False        2015-11-24   4 total hours   \n",
       "63521                  False        2022-01-25  31 total hours   \n",
       "\n",
       "                   category  char_count  \\\n",
       "607    personal_development       129.0   \n",
       "2581   personal_development       295.0   \n",
       "63521              business         NaN   \n",
       "\n",
       "                                             description  \\\n",
       "607    Communication Skills for Beginners Basic tips ...   \n",
       "2581   Communication Skills for Beginners Everything ...   \n",
       "63521  Communication Skills for Beginners Start Build...   \n",
       "\n",
       "                        preprocessed_description_stemmed  \\\n",
       "607    commun skill beginn basic tip techniqu develop...   \n",
       "2581   commun skill beginn everyth want know exactli ...   \n",
       "63521  commun skill beginn start build commun skill c...   \n",
       "\n",
       "                      preprocessed_description_unstemmed  \n",
       "607    communication skills beginners basic tips tech...  \n",
       "2581   communication skills beginners everything want...  \n",
       "63521  communication skills beginners start building ...  \n",
       "\n",
       "[3 rows x 33 columns]"
      ]
     },
     "execution_count": 92,
     "metadata": {},
     "output_type": "execute_result"
    }
   ],
   "source": [
    "df[df['title'] == 'Communication Skills for Beginners']"
   ]
  },
  {
   "cell_type": "code",
   "execution_count": null,
   "metadata": {},
   "outputs": [],
   "source": []
  }
 ],
 "metadata": {
  "kernelspec": {
   "display_name": "Python 3 (ipykernel)",
   "language": "python",
   "name": "python3"
  },
  "language_info": {
   "codemirror_mode": {
    "name": "ipython",
    "version": 3
   },
   "file_extension": ".py",
   "mimetype": "text/x-python",
   "name": "python",
   "nbconvert_exporter": "python",
   "pygments_lexer": "ipython3",
   "version": "3.10.5"
  }
 },
 "nbformat": 4,
 "nbformat_minor": 4
}
